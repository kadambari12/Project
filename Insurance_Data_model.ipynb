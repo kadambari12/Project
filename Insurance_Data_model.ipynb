{
 "cells": [
  {
   "cell_type": "code",
   "execution_count": 1,
   "metadata": {
    "colab": {
     "base_uri": "https://localhost:8080/"
    },
    "id": "bBhxiCV5pCWl",
    "outputId": "1811c6a0-5a86-4b1a-8422-d3aeeef6f5ff"
   },
   "outputs": [
    {
     "name": "stdout",
     "output_type": "stream",
     "text": [
      "Mounted at /content/drive\n"
     ]
    }
   ],
   "source": [
    "#from google.colab import drive\n",
    "#drive.mount('/content/drive')"
   ]
  },
  {
   "cell_type": "markdown",
   "metadata": {
    "id": "6RE7UqsHpAvU"
   },
   "source": [
    "## A) Import Library And Data\n",
    "### A-1: Import required library"
   ]
  },
  {
   "cell_type": "code",
   "execution_count": 7,
   "metadata": {
    "id": "sZ02bwnqpAva"
   },
   "outputs": [],
   "source": [
    "import numpy as np \n",
    "import pandas as pd\n",
    "\n",
    "import seaborn as sns\n",
    "import matplotlib.pyplot as plt\n",
    "\n",
    "from sklearn.utils import resample\n",
    "from sklearn.preprocessing import LabelBinarizer, LabelEncoder\n",
    "from sklearn.model_selection import train_test_split, cross_val_score, StratifiedKFold\n",
    "\n",
    "from sklearn.ensemble import RandomForestClassifier\n",
    "from sklearn.metrics import classification_report, confusion_matrix, accuracy_score, roc_auc_score, \\\n",
    "                            f1_score, precision_score, recall_score, roc_curve, precision_recall_curve, \\\n",
    "                            mean_squared_error\n",
    "\n",
    "from collections import Counter\n",
    "import time\n",
    "from joblib import dump, load\n",
    "\n",
    "#import warnings\n",
    "#warnings.filterwarnings('ignore')\n",
    "\n",
    "pd.set_option('display.max_columns', 2000)\n",
    "pd.set_option('display.max_rows', 500)"
   ]
  },
  {
   "cell_type": "code",
   "execution_count": 6,
   "metadata": {},
   "outputs": [
    {
     "name": "stdout",
     "output_type": "stream",
     "text": [
      "Collecting scikit-learn\n",
      "  Using cached scikit_learn-0.24.1-cp39-cp39-win_amd64.whl (6.9 MB)\n",
      "Requirement already satisfied: scipy>=0.19.1 in c:\\users\\administrator.gokulbhasi\\anaconda3\\envs\\project1\\lib\\site-packages (from scikit-learn) (1.6.2)\n",
      "Requirement already satisfied: numpy>=1.13.3 in c:\\users\\administrator.gokulbhasi\\anaconda3\\envs\\project1\\lib\\site-packages (from scikit-learn) (1.20.2)\n",
      "Collecting threadpoolctl>=2.0.0\n",
      "  Using cached threadpoolctl-2.1.0-py3-none-any.whl (12 kB)\n",
      "Requirement already satisfied: joblib>=0.11 in c:\\users\\administrator.gokulbhasi\\anaconda3\\envs\\project1\\lib\\site-packages (from scikit-learn) (1.0.1)\n",
      "Installing collected packages: threadpoolctl, scikit-learn\n",
      "Successfully installed scikit-learn-0.24.1 threadpoolctl-2.1.0\n"
     ]
    }
   ],
   "source": [
    "#!pip install numpy #numpy-1.20.2\n",
    "#!pip install scikit-learn#0.24.1"
   ]
  },
  {
   "cell_type": "code",
   "execution_count": 4,
   "metadata": {},
   "outputs": [
    {
     "name": "stdout",
     "output_type": "stream",
     "text": [
      "Collecting pandas\n",
      "  Using cached pandas-1.2.3-cp39-cp39-win_amd64.whl (9.3 MB)\n",
      "Requirement already satisfied: numpy>=1.16.5 in c:\\users\\administrator.gokulbhasi\\anaconda3\\envs\\project1\\lib\\site-packages (from pandas) (1.20.2)\n",
      "Requirement already satisfied: python-dateutil>=2.7.3 in c:\\users\\administrator.gokulbhasi\\anaconda3\\envs\\project1\\lib\\site-packages (from pandas) (2.8.1)\n",
      "Requirement already satisfied: pytz>=2017.3 in c:\\users\\administrator.gokulbhasi\\anaconda3\\envs\\project1\\lib\\site-packages (from pandas) (2021.1)\n",
      "Requirement already satisfied: six>=1.5 in c:\\users\\administrator.gokulbhasi\\anaconda3\\envs\\project1\\lib\\site-packages (from python-dateutil>=2.7.3->pandas) (1.15.0)\n",
      "Installing collected packages: pandas\n",
      "Successfully installed pandas-1.2.3\n",
      "Collecting seaborn\n",
      "  Using cached seaborn-0.11.1-py3-none-any.whl (285 kB)\n",
      "Collecting scipy>=1.0\n",
      "  Downloading scipy-1.6.2-cp39-cp39-win_amd64.whl (32.7 MB)\n",
      "Requirement already satisfied: numpy>=1.15 in c:\\users\\administrator.gokulbhasi\\anaconda3\\envs\\project1\\lib\\site-packages (from seaborn) (1.20.2)\n",
      "Collecting matplotlib>=2.2\n",
      "  Downloading matplotlib-3.4.1-cp39-cp39-win_amd64.whl (7.1 MB)\n",
      "Requirement already satisfied: pandas>=0.23 in c:\\users\\administrator.gokulbhasi\\anaconda3\\envs\\project1\\lib\\site-packages (from seaborn) (1.2.3)\n",
      "Collecting cycler>=0.10\n",
      "  Using cached cycler-0.10.0-py2.py3-none-any.whl (6.5 kB)\n",
      "Collecting kiwisolver>=1.0.1\n",
      "  Using cached kiwisolver-1.3.1-cp39-cp39-win_amd64.whl (51 kB)\n",
      "Requirement already satisfied: pyparsing>=2.2.1 in c:\\users\\administrator.gokulbhasi\\anaconda3\\envs\\project1\\lib\\site-packages (from matplotlib>=2.2->seaborn) (2.4.7)\n",
      "Requirement already satisfied: python-dateutil>=2.7 in c:\\users\\administrator.gokulbhasi\\anaconda3\\envs\\project1\\lib\\site-packages (from matplotlib>=2.2->seaborn) (2.8.1)\n",
      "Collecting pillow>=6.2.0\n",
      "  Downloading Pillow-8.2.0-cp39-cp39-win_amd64.whl (2.2 MB)\n",
      "Requirement already satisfied: six in c:\\users\\administrator.gokulbhasi\\anaconda3\\envs\\project1\\lib\\site-packages (from cycler>=0.10->matplotlib>=2.2->seaborn) (1.15.0)\n",
      "Requirement already satisfied: pytz>=2017.3 in c:\\users\\administrator.gokulbhasi\\anaconda3\\envs\\project1\\lib\\site-packages (from pandas>=0.23->seaborn) (2021.1)\n",
      "Installing collected packages: pillow, kiwisolver, cycler, scipy, matplotlib, seaborn\n",
      "Successfully installed cycler-0.10.0 kiwisolver-1.3.1 matplotlib-3.4.1 pillow-8.2.0 scipy-1.6.2 seaborn-0.11.1\n",
      "Requirement already satisfied: matplotlib in c:\\users\\administrator.gokulbhasi\\anaconda3\\envs\\project1\\lib\\site-packages (3.4.1)\n",
      "Requirement already satisfied: python-dateutil>=2.7 in c:\\users\\administrator.gokulbhasi\\anaconda3\\envs\\project1\\lib\\site-packages (from matplotlib) (2.8.1)\n",
      "Requirement already satisfied: cycler>=0.10 in c:\\users\\administrator.gokulbhasi\\anaconda3\\envs\\project1\\lib\\site-packages (from matplotlib) (0.10.0)\n",
      "Requirement already satisfied: pyparsing>=2.2.1 in c:\\users\\administrator.gokulbhasi\\anaconda3\\envs\\project1\\lib\\site-packages (from matplotlib) (2.4.7)\n",
      "Requirement already satisfied: numpy>=1.16 in c:\\users\\administrator.gokulbhasi\\anaconda3\\envs\\project1\\lib\\site-packages (from matplotlib) (1.20.2)\n",
      "Requirement already satisfied: pillow>=6.2.0 in c:\\users\\administrator.gokulbhasi\\anaconda3\\envs\\project1\\lib\\site-packages (from matplotlib) (8.2.0)\n",
      "Requirement already satisfied: kiwisolver>=1.0.1 in c:\\users\\administrator.gokulbhasi\\anaconda3\\envs\\project1\\lib\\site-packages (from matplotlib) (1.3.1)\n",
      "Requirement already satisfied: six in c:\\users\\administrator.gokulbhasi\\anaconda3\\envs\\project1\\lib\\site-packages (from cycler>=0.10->matplotlib) (1.15.0)\n"
     ]
    },
    {
     "name": "stderr",
     "output_type": "stream",
     "text": [
      "ERROR: Could not find a version that satisfies the requirement collections\n",
      "ERROR: No matching distribution found for collections\n"
     ]
    },
    {
     "name": "stdout",
     "output_type": "stream",
     "text": [
      "Collecting joblib\n",
      "  Using cached joblib-1.0.1-py3-none-any.whl (303 kB)\n",
      "Installing collected packages: joblib\n",
      "Successfully installed joblib-1.0.1\n"
     ]
    }
   ],
   "source": [
    "!pip install pandas # (1.20.2)\n",
    "!pip install seaborn #seaborn-0.11.1\n",
    "!pip install matplotlib\n",
    "!pip install collections\n",
    "!pip install joblib #joblib-1.0.1"
   ]
  },
  {
   "cell_type": "markdown",
   "metadata": {
    "id": "0GxtqKOS9KH9"
   },
   "source": [
    "### A-2: Dataset loading"
   ]
  },
  {
   "cell_type": "code",
   "execution_count": 9,
   "metadata": {
    "colab": {
     "base_uri": "https://localhost:8080/",
     "height": 250
    },
    "id": "XpER51JPpAvd",
    "outputId": "baee3dfc-ec44-4c83-f7d7-be52885e978b"
   },
   "outputs": [
    {
     "data": {
      "text/html": [
       "<div>\n",
       "<style scoped>\n",
       "    .dataframe tbody tr th:only-of-type {\n",
       "        vertical-align: middle;\n",
       "    }\n",
       "\n",
       "    .dataframe tbody tr th {\n",
       "        vertical-align: top;\n",
       "    }\n",
       "\n",
       "    .dataframe thead th {\n",
       "        text-align: right;\n",
       "    }\n",
       "</style>\n",
       "<table border=\"1\" class=\"dataframe\">\n",
       "  <thead>\n",
       "    <tr style=\"text-align: right;\">\n",
       "      <th></th>\n",
       "      <th>Area_Service</th>\n",
       "      <th>Hospital County</th>\n",
       "      <th>Hospital Id</th>\n",
       "      <th>Age</th>\n",
       "      <th>Gender</th>\n",
       "      <th>Cultural_group</th>\n",
       "      <th>ethnicity</th>\n",
       "      <th>Days_spend_hsptl</th>\n",
       "      <th>Admission_type</th>\n",
       "      <th>Home or self care,</th>\n",
       "      <th>ccs_diagnosis_code</th>\n",
       "      <th>ccs_procedure_code</th>\n",
       "      <th>apr_drg_description</th>\n",
       "      <th>Code_illness</th>\n",
       "      <th>Mortality risk</th>\n",
       "      <th>Surg_Description</th>\n",
       "      <th>Weight_baby</th>\n",
       "      <th>Abortion</th>\n",
       "      <th>Emergency dept_yes/No</th>\n",
       "      <th>Tot_charg</th>\n",
       "      <th>Tot_cost</th>\n",
       "      <th>ratio_of_total_costs_to_total_charges</th>\n",
       "      <th>Result</th>\n",
       "      <th>Payment_Typology</th>\n",
       "    </tr>\n",
       "  </thead>\n",
       "  <tbody>\n",
       "    <tr>\n",
       "      <th>0</th>\n",
       "      <td>Western NY</td>\n",
       "      <td>Allegany</td>\n",
       "      <td>37.0</td>\n",
       "      <td>30 to 49</td>\n",
       "      <td>F</td>\n",
       "      <td>White</td>\n",
       "      <td>Not Span/Hispanic</td>\n",
       "      <td>4</td>\n",
       "      <td>Elective</td>\n",
       "      <td>Home or Self Care</td>\n",
       "      <td>122</td>\n",
       "      <td>0</td>\n",
       "      <td>Other pneumonia</td>\n",
       "      <td>1</td>\n",
       "      <td>1.0</td>\n",
       "      <td>Medical</td>\n",
       "      <td>0</td>\n",
       "      <td>N</td>\n",
       "      <td>Y</td>\n",
       "      <td>5511.95</td>\n",
       "      <td>5582.49</td>\n",
       "      <td>1.012798</td>\n",
       "      <td>1</td>\n",
       "      <td>1</td>\n",
       "    </tr>\n",
       "    <tr>\n",
       "      <th>1</th>\n",
       "      <td>Western NY</td>\n",
       "      <td>Allegany</td>\n",
       "      <td>37.0</td>\n",
       "      <td>70 or Older</td>\n",
       "      <td>F</td>\n",
       "      <td>White</td>\n",
       "      <td>Not Span/Hispanic</td>\n",
       "      <td>4</td>\n",
       "      <td>Urgent</td>\n",
       "      <td>Short-term Hospital</td>\n",
       "      <td>197</td>\n",
       "      <td>0</td>\n",
       "      <td>Cellulitis &amp; other skin infections</td>\n",
       "      <td>3</td>\n",
       "      <td>2.0</td>\n",
       "      <td>Medical</td>\n",
       "      <td>0</td>\n",
       "      <td>N</td>\n",
       "      <td>Y</td>\n",
       "      <td>4783.20</td>\n",
       "      <td>5162.82</td>\n",
       "      <td>1.079365</td>\n",
       "      <td>1</td>\n",
       "      <td>1</td>\n",
       "    </tr>\n",
       "  </tbody>\n",
       "</table>\n",
       "</div>"
      ],
      "text/plain": [
       "  Area_Service Hospital County  Hospital Id          Age Gender  \\\n",
       "0   Western NY        Allegany         37.0     30 to 49      F   \n",
       "1   Western NY        Allegany         37.0  70 or Older      F   \n",
       "\n",
       "  Cultural_group          ethnicity Days_spend_hsptl Admission_type  \\\n",
       "0          White  Not Span/Hispanic                4       Elective   \n",
       "1          White  Not Span/Hispanic                4         Urgent   \n",
       "\n",
       "    Home or self care,  ccs_diagnosis_code  ccs_procedure_code  \\\n",
       "0    Home or Self Care                 122                   0   \n",
       "1  Short-term Hospital                 197                   0   \n",
       "\n",
       "                  apr_drg_description  Code_illness  Mortality risk  \\\n",
       "0                     Other pneumonia             1             1.0   \n",
       "1  Cellulitis & other skin infections             3             2.0   \n",
       "\n",
       "  Surg_Description  Weight_baby Abortion Emergency dept_yes/No  Tot_charg  \\\n",
       "0          Medical            0        N                     Y    5511.95   \n",
       "1          Medical            0        N                     Y    4783.20   \n",
       "\n",
       "   Tot_cost  ratio_of_total_costs_to_total_charges  Result  Payment_Typology  \n",
       "0   5582.49                               1.012798       1                 1  \n",
       "1   5162.82                               1.079365       1                 1  "
      ]
     },
     "execution_count": 9,
     "metadata": {},
     "output_type": "execute_result"
    }
   ],
   "source": [
    "#dataset = pd.read_csv('dataset.csv')\n",
    "dataset = pd.read_csv(\"Insurance Dataset.csv\")\n",
    "dataset.head(2)"
   ]
  },
  {
   "cell_type": "markdown",
   "metadata": {
    "id": "DK0jciIPpAvc"
   },
   "source": [
    "## B) Data Preprocessing"
   ]
  },
  {
   "cell_type": "code",
   "execution_count": 10,
   "metadata": {
    "colab": {
     "base_uri": "https://localhost:8080/"
    },
    "id": "8SLHDWb3p5gd",
    "outputId": "4d4639a0-4626-41b2-b444-1ef17fcecdf1"
   },
   "outputs": [
    {
     "data": {
      "text/plain": [
       "Index(['Area_Service', 'Hospital County', 'Hospital Id', 'Age', 'Gender',\n",
       "       'Cultural_group', 'ethnicity', 'Days_spend_hsptl', 'Admission_type',\n",
       "       'Home or self care,', 'ccs_diagnosis_code', 'ccs_procedure_code',\n",
       "       'apr_drg_description', 'Code_illness', 'Mortality risk',\n",
       "       'Surg_Description', 'Weight_baby', 'Abortion', 'Emergency dept_yes/No',\n",
       "       'Tot_charg', 'Tot_cost', 'ratio_of_total_costs_to_total_charges',\n",
       "       'Result', 'Payment_Typology'],\n",
       "      dtype='object')"
      ]
     },
     "execution_count": 10,
     "metadata": {},
     "output_type": "execute_result"
    }
   ],
   "source": [
    "dataset.columns"
   ]
  },
  {
   "cell_type": "markdown",
   "metadata": {
    "id": "_ZdphuKh9KIB"
   },
   "source": [
    "### B-1: Modification in dataframe names and values"
   ]
  },
  {
   "cell_type": "code",
   "execution_count": 11,
   "metadata": {
    "colab": {
     "base_uri": "https://localhost:8080/"
    },
    "id": "GJIFB_NepAvf",
    "outputId": "b26831fa-6f21-4c1d-a756-de8eedaa6cd3"
   },
   "outputs": [
    {
     "data": {
      "text/plain": [
       "array(['Area_Service', 'Hospital_County', 'Hospital_Id', 'Age', 'Gender',\n",
       "       'Cultural_group', 'ethnicity', 'Days_spend_hsptl',\n",
       "       'Admission_type', 'Home_or_self_care,', 'ccs_diagnosis_code',\n",
       "       'ccs_procedure_code', 'apr_drg_description', 'Code_illness',\n",
       "       'Mortality_risk', 'Surg_Description', 'Weight_baby', 'Abortion',\n",
       "       'Emergency_dept_yes_No', 'Tot_charg', 'Tot_cost',\n",
       "       'ratio_of_total_costs_to_total_charges', 'Result',\n",
       "       'Payment_Typology'], dtype=object)"
      ]
     },
     "execution_count": 11,
     "metadata": {},
     "output_type": "execute_result"
    }
   ],
   "source": [
    "# Removing spaces\n",
    "dataset.columns = dataset.columns.to_series().apply(lambda x: x.replace(' ', '_')).to_list()\n",
    "dataset.columns = dataset.columns.to_series().apply(lambda x: x.replace('/', '_')).to_list()\n",
    "dataset.columns.values"
   ]
  },
  {
   "cell_type": "code",
   "execution_count": 12,
   "metadata": {
    "id": "41kChjLHpAvg"
   },
   "outputs": [],
   "source": [
    "# Rename the dataframe\n",
    "dataset.rename(columns={'Home_or_self_care,': 'Home_or_self_care'}, inplace=True)"
   ]
  },
  {
   "cell_type": "code",
   "execution_count": 9,
   "metadata": {
    "id": "Ls5zRfv2pAvg"
   },
   "outputs": [],
   "source": [
    "#data= pd.read_csv('dataset.csv')\n",
    "#data= pd.read_csv('Insurance_Dataset.csv') \n",
    "#data_sample_view = data.head(2)"
   ]
  },
  {
   "cell_type": "code",
   "execution_count": 10,
   "metadata": {
    "id": "wGNATrOFpAvh"
   },
   "outputs": [],
   "source": [
    "# for deployment part...sample dataframe view..\n",
    "#dump(data_sample_view, 'data_sample_view.joblib')\n",
    "#dump(data_sample_view, 'data_sample_view.pkl')"
   ]
  },
  {
   "cell_type": "markdown",
   "metadata": {
    "id": "iZu3awSu9KIH"
   },
   "source": [
    "### B-2: Remove duplications and null values"
   ]
  },
  {
   "cell_type": "code",
   "execution_count": 13,
   "metadata": {
    "id": "fpBdl61-pAvi"
   },
   "outputs": [],
   "source": [
    "shape_1 = dataset.shape\n",
    "dataset.drop_duplicates(inplace=True)\n",
    "dataset.dropna(inplace=True)\n",
    "shape_2 = dataset.shape"
   ]
  },
  {
   "cell_type": "code",
   "execution_count": 14,
   "metadata": {
    "colab": {
     "base_uri": "https://localhost:8080/"
    },
    "id": "1KxzEF3RpAvj",
    "outputId": "f4739335-0e15-4057-c1d1-0af70085ed98"
   },
   "outputs": [
    {
     "name": "stdout",
     "output_type": "stream",
     "text": [
      "Shape of data before remove : (1048575, 24) \n",
      "Shape of data after remove  : (1041265, 24)\n"
     ]
    }
   ],
   "source": [
    "print('Shape of data before remove :', shape_1, '\\nShape of data after remove  :', shape_2)"
   ]
  },
  {
   "cell_type": "code",
   "execution_count": 15,
   "metadata": {
    "colab": {
     "base_uri": "https://localhost:8080/"
    },
    "id": "L078A84WchMf",
    "outputId": "f4e5e415-b718-48c2-976a-7872c084cd49"
   },
   "outputs": [
    {
     "name": "stdout",
     "output_type": "stream",
     "text": [
      "Duplicate : 0 and Null : 0 \n"
     ]
    }
   ],
   "source": [
    "data_duplicate_count = dataset.duplicated().sum()\n",
    "data_null_count = dataset.isnull().sum().sum()\n",
    "print('Duplicate : {d} and Null : {n} '.format(d=data_duplicate_count, n=data_null_count))"
   ]
  },
  {
   "cell_type": "markdown",
   "metadata": {
    "id": "g-cqZPHK9KIK"
   },
   "source": [
    "### B-3: Modify column datatype "
   ]
  },
  {
   "cell_type": "code",
   "execution_count": 16,
   "metadata": {
    "colab": {
     "base_uri": "https://localhost:8080/"
    },
    "id": "3xp17S_zpAvk",
    "outputId": "e98e4fa6-a6ee-49ba-c955-e41826301758"
   },
   "outputs": [
    {
     "name": "stdout",
     "output_type": "stream",
     "text": [
      "<class 'pandas.core.frame.DataFrame'>\n",
      "Int64Index: 1041265 entries, 0 to 1048574\n",
      "Data columns (total 24 columns):\n",
      " #   Column                                 Non-Null Count    Dtype  \n",
      "---  ------                                 --------------    -----  \n",
      " 0   Area_Service                           1041265 non-null  object \n",
      " 1   Hospital_County                        1041265 non-null  object \n",
      " 2   Hospital_Id                            1041265 non-null  float64\n",
      " 3   Age                                    1041265 non-null  object \n",
      " 4   Gender                                 1041265 non-null  object \n",
      " 5   Cultural_group                         1041265 non-null  object \n",
      " 6   ethnicity                              1041265 non-null  object \n",
      " 7   Days_spend_hsptl                       1041265 non-null  object \n",
      " 8   Admission_type                         1041265 non-null  object \n",
      " 9   Home_or_self_care                      1041265 non-null  object \n",
      " 10  ccs_diagnosis_code                     1041265 non-null  int64  \n",
      " 11  ccs_procedure_code                     1041265 non-null  int64  \n",
      " 12  apr_drg_description                    1041265 non-null  object \n",
      " 13  Code_illness                           1041265 non-null  int64  \n",
      " 14  Mortality_risk                         1041265 non-null  float64\n",
      " 15  Surg_Description                       1041265 non-null  object \n",
      " 16  Weight_baby                            1041265 non-null  int64  \n",
      " 17  Abortion                               1041265 non-null  object \n",
      " 18  Emergency_dept_yes_No                  1041265 non-null  object \n",
      " 19  Tot_charg                              1041265 non-null  float64\n",
      " 20  Tot_cost                               1041265 non-null  float64\n",
      " 21  ratio_of_total_costs_to_total_charges  1041265 non-null  float64\n",
      " 22  Result                                 1041265 non-null  int64  \n",
      " 23  Payment_Typology                       1041265 non-null  int64  \n",
      "dtypes: float64(5), int64(6), object(13)\n",
      "memory usage: 198.6+ MB\n"
     ]
    }
   ],
   "source": [
    "# Datatypes of features\n",
    "dataset.info()"
   ]
  },
  {
   "cell_type": "code",
   "execution_count": 15,
   "metadata": {
    "colab": {
     "base_uri": "https://localhost:8080/",
     "height": 165
    },
    "id": "x-t9UkMbpAvk",
    "outputId": "a69bfdeb-ffb4-4276-f00b-244aa5c61b04"
   },
   "outputs": [
    {
     "data": {
      "text/html": [
       "<div>\n",
       "<style scoped>\n",
       "    .dataframe tbody tr th:only-of-type {\n",
       "        vertical-align: middle;\n",
       "    }\n",
       "\n",
       "    .dataframe tbody tr th {\n",
       "        vertical-align: top;\n",
       "    }\n",
       "\n",
       "    .dataframe thead th {\n",
       "        text-align: right;\n",
       "    }\n",
       "</style>\n",
       "<table border=\"1\" class=\"dataframe\">\n",
       "  <thead>\n",
       "    <tr style=\"text-align: right;\">\n",
       "      <th></th>\n",
       "      <th>Area_Service</th>\n",
       "      <th>Hospital_County</th>\n",
       "      <th>Age</th>\n",
       "      <th>Gender</th>\n",
       "      <th>Cultural_group</th>\n",
       "      <th>ethnicity</th>\n",
       "      <th>Days_spend_hsptl</th>\n",
       "      <th>Admission_type</th>\n",
       "      <th>Home_or_self_care</th>\n",
       "      <th>apr_drg_description</th>\n",
       "      <th>Surg_Description</th>\n",
       "      <th>Abortion</th>\n",
       "      <th>Emergency_dept_yes_No</th>\n",
       "    </tr>\n",
       "  </thead>\n",
       "  <tbody>\n",
       "    <tr>\n",
       "      <th>0</th>\n",
       "      <td>Western NY</td>\n",
       "      <td>Allegany</td>\n",
       "      <td>30 to 49</td>\n",
       "      <td>F</td>\n",
       "      <td>White</td>\n",
       "      <td>Not Span/Hispanic</td>\n",
       "      <td>4</td>\n",
       "      <td>Elective</td>\n",
       "      <td>Home or Self Care</td>\n",
       "      <td>Other pneumonia</td>\n",
       "      <td>Medical</td>\n",
       "      <td>N</td>\n",
       "      <td>Y</td>\n",
       "    </tr>\n",
       "    <tr>\n",
       "      <th>1</th>\n",
       "      <td>Western NY</td>\n",
       "      <td>Allegany</td>\n",
       "      <td>70 or Older</td>\n",
       "      <td>F</td>\n",
       "      <td>White</td>\n",
       "      <td>Not Span/Hispanic</td>\n",
       "      <td>4</td>\n",
       "      <td>Urgent</td>\n",
       "      <td>Short-term Hospital</td>\n",
       "      <td>Cellulitis &amp; other skin infections</td>\n",
       "      <td>Medical</td>\n",
       "      <td>N</td>\n",
       "      <td>Y</td>\n",
       "    </tr>\n",
       "  </tbody>\n",
       "</table>\n",
       "</div>"
      ],
      "text/plain": [
       "  Area_Service Hospital_County          Age Gender Cultural_group  \\\n",
       "0   Western NY        Allegany     30 to 49      F          White   \n",
       "1   Western NY        Allegany  70 or Older      F          White   \n",
       "\n",
       "           ethnicity Days_spend_hsptl Admission_type    Home_or_self_care  \\\n",
       "0  Not Span/Hispanic                4       Elective    Home or Self Care   \n",
       "1  Not Span/Hispanic                4         Urgent  Short-term Hospital   \n",
       "\n",
       "                  apr_drg_description Surg_Description Abortion  \\\n",
       "0                     Other pneumonia          Medical        N   \n",
       "1  Cellulitis & other skin infections          Medical        N   \n",
       "\n",
       "  Emergency_dept_yes_No  \n",
       "0                     Y  \n",
       "1                     Y  "
      ]
     },
     "execution_count": 15,
     "metadata": {
      "tags": []
     },
     "output_type": "execute_result"
    }
   ],
   "source": [
    "dataset.select_dtypes(include=['object']).head(2)"
   ]
  },
  {
   "cell_type": "code",
   "execution_count": 16,
   "metadata": {
    "id": "GKUibF9OpAvo"
   },
   "outputs": [],
   "source": [
    "# Convert the Object column into int\n",
    "dataset.replace({'Days_spend_hsptl': '120 +'}, 120, inplace=True)\n",
    "dataset.Days_spend_hsptl = dataset.Days_spend_hsptl.astype('int')\n",
    "\n",
    "# Convert the Object column into int\n",
    "dataset.Hospital_Id = dataset.Hospital_Id.astype('int')\n",
    "dataset.Mortality_risk = dataset.Mortality_risk.astype('int')"
   ]
  },
  {
   "cell_type": "code",
   "execution_count": 17,
   "metadata": {
    "colab": {
     "base_uri": "https://localhost:8080/",
     "height": 131
    },
    "id": "6NUOveITpAvo",
    "outputId": "fa31e375-83cd-41b9-bbd5-6a2d86d50345"
   },
   "outputs": [
    {
     "data": {
      "text/html": [
       "<div>\n",
       "<style scoped>\n",
       "    .dataframe tbody tr th:only-of-type {\n",
       "        vertical-align: middle;\n",
       "    }\n",
       "\n",
       "    .dataframe tbody tr th {\n",
       "        vertical-align: top;\n",
       "    }\n",
       "\n",
       "    .dataframe thead th {\n",
       "        text-align: right;\n",
       "    }\n",
       "</style>\n",
       "<table border=\"1\" class=\"dataframe\">\n",
       "  <thead>\n",
       "    <tr style=\"text-align: right;\">\n",
       "      <th></th>\n",
       "      <th>Hospital_Id</th>\n",
       "      <th>Days_spend_hsptl</th>\n",
       "      <th>ccs_diagnosis_code</th>\n",
       "      <th>ccs_procedure_code</th>\n",
       "      <th>Code_illness</th>\n",
       "      <th>Mortality_risk</th>\n",
       "      <th>Weight_baby</th>\n",
       "      <th>Tot_charg</th>\n",
       "      <th>Tot_cost</th>\n",
       "      <th>ratio_of_total_costs_to_total_charges</th>\n",
       "      <th>Result</th>\n",
       "      <th>Payment_Typology</th>\n",
       "    </tr>\n",
       "  </thead>\n",
       "  <tbody>\n",
       "    <tr>\n",
       "      <th>0</th>\n",
       "      <td>37</td>\n",
       "      <td>4</td>\n",
       "      <td>122</td>\n",
       "      <td>0</td>\n",
       "      <td>1</td>\n",
       "      <td>1</td>\n",
       "      <td>0</td>\n",
       "      <td>5511.95</td>\n",
       "      <td>5582.49</td>\n",
       "      <td>1.012798</td>\n",
       "      <td>1</td>\n",
       "      <td>1</td>\n",
       "    </tr>\n",
       "    <tr>\n",
       "      <th>1</th>\n",
       "      <td>37</td>\n",
       "      <td>4</td>\n",
       "      <td>197</td>\n",
       "      <td>0</td>\n",
       "      <td>3</td>\n",
       "      <td>2</td>\n",
       "      <td>0</td>\n",
       "      <td>4783.20</td>\n",
       "      <td>5162.82</td>\n",
       "      <td>1.079365</td>\n",
       "      <td>1</td>\n",
       "      <td>1</td>\n",
       "    </tr>\n",
       "  </tbody>\n",
       "</table>\n",
       "</div>"
      ],
      "text/plain": [
       "   Hospital_Id  Days_spend_hsptl  ccs_diagnosis_code  ccs_procedure_code  \\\n",
       "0           37                 4                 122                   0   \n",
       "1           37                 4                 197                   0   \n",
       "\n",
       "   Code_illness  Mortality_risk  Weight_baby  Tot_charg  Tot_cost  \\\n",
       "0             1               1            0    5511.95   5582.49   \n",
       "1             3               2            0    4783.20   5162.82   \n",
       "\n",
       "   ratio_of_total_costs_to_total_charges  Result  Payment_Typology  \n",
       "0                               1.012798       1                 1  \n",
       "1                               1.079365       1                 1  "
      ]
     },
     "execution_count": 17,
     "metadata": {
      "tags": []
     },
     "output_type": "execute_result"
    }
   ],
   "source": [
    "dataset.select_dtypes(exclude='object').head(2)"
   ]
  },
  {
   "cell_type": "markdown",
   "metadata": {
    "id": "hZ8NzPeZpAvq"
   },
   "source": [
    "## C) Feature Selection Technique\n",
    "\n",
    "- As we had seen the feature selection techniques with business problem, survey with findings, top features by algorithms RF and ET in EDA I. Also we analyzed the different model performances by various balancing techniques as well, but the model accuracy isn't improve further and all the model classification report tells unequal distribution for class 0 and class 1 (F1 measures + precision + recall). \n",
    "- In this EDA II, based on the analysis having equal features importances and hance we had selected most of the features from the dataset excepting few of them. \n",
    "\n",
    "#### C-1 : We have removed the un-releavent features from the data by assuming the below points and observations from previous EDA I part:\n",
    "\n",
    "1) Removing the features __hospital_id__ which are not significant with respect to the output variable \"result\", this features can't tell whether the claims are of valid or invalid.\n",
    "\n",
    "2) The APR-DRG Classification Code Description specifies description categories about the diseases, illness, etc. We are able to collect failry the desciptions from the code illness and hence we are removing the feature __apr_drg_description__.\n",
    "\n",
    "3) Gender feature has __unknown__ values which are less in counts (27) with respect to the counts of Male and Female, So we removed it.\n",
    "\n",
    "4) Feature __abortion__ has only 0 values and its lead towards constant variance. Due to this constant and low variance feature among all, so we are removing it.\n",
    "\n",
    "7) We are going to remove the feature __Weight_baby__ as 90% of the data belongs to 0 category with outliers."
   ]
  },
  {
   "cell_type": "code",
   "execution_count": 17,
   "metadata": {
    "id": "bLBAaG1vpAvq"
   },
   "outputs": [],
   "source": [
    "dataset.drop(['Hospital_Id', 'apr_drg_description', 'Abortion', 'Weight_baby'], axis=1, inplace=True)"
   ]
  },
  {
   "cell_type": "code",
   "execution_count": 19,
   "metadata": {
    "colab": {
     "base_uri": "https://localhost:8080/",
     "height": 165
    },
    "id": "Z6cihitypAvr",
    "outputId": "fd6bfc29-430b-4bd0-b18c-3140e33160ef"
   },
   "outputs": [
    {
     "data": {
      "text/html": [
       "<div>\n",
       "<style scoped>\n",
       "    .dataframe tbody tr th:only-of-type {\n",
       "        vertical-align: middle;\n",
       "    }\n",
       "\n",
       "    .dataframe tbody tr th {\n",
       "        vertical-align: top;\n",
       "    }\n",
       "\n",
       "    .dataframe thead th {\n",
       "        text-align: right;\n",
       "    }\n",
       "</style>\n",
       "<table border=\"1\" class=\"dataframe\">\n",
       "  <thead>\n",
       "    <tr style=\"text-align: right;\">\n",
       "      <th></th>\n",
       "      <th>Area_Service</th>\n",
       "      <th>Hospital_County</th>\n",
       "      <th>Age</th>\n",
       "      <th>Gender</th>\n",
       "      <th>Cultural_group</th>\n",
       "      <th>ethnicity</th>\n",
       "      <th>Days_spend_hsptl</th>\n",
       "      <th>Admission_type</th>\n",
       "      <th>Home_or_self_care</th>\n",
       "      <th>ccs_diagnosis_code</th>\n",
       "      <th>ccs_procedure_code</th>\n",
       "      <th>Code_illness</th>\n",
       "      <th>Mortality_risk</th>\n",
       "      <th>Surg_Description</th>\n",
       "      <th>Emergency_dept_yes_No</th>\n",
       "      <th>Tot_charg</th>\n",
       "      <th>Tot_cost</th>\n",
       "      <th>ratio_of_total_costs_to_total_charges</th>\n",
       "      <th>Result</th>\n",
       "      <th>Payment_Typology</th>\n",
       "    </tr>\n",
       "  </thead>\n",
       "  <tbody>\n",
       "    <tr>\n",
       "      <th>0</th>\n",
       "      <td>Western NY</td>\n",
       "      <td>Allegany</td>\n",
       "      <td>30 to 49</td>\n",
       "      <td>F</td>\n",
       "      <td>White</td>\n",
       "      <td>Not Span/Hispanic</td>\n",
       "      <td>4</td>\n",
       "      <td>Elective</td>\n",
       "      <td>Home or Self Care</td>\n",
       "      <td>122</td>\n",
       "      <td>0</td>\n",
       "      <td>1</td>\n",
       "      <td>1</td>\n",
       "      <td>Medical</td>\n",
       "      <td>Y</td>\n",
       "      <td>5511.95</td>\n",
       "      <td>5582.49</td>\n",
       "      <td>1.012798</td>\n",
       "      <td>1</td>\n",
       "      <td>1</td>\n",
       "    </tr>\n",
       "    <tr>\n",
       "      <th>1</th>\n",
       "      <td>Western NY</td>\n",
       "      <td>Allegany</td>\n",
       "      <td>70 or Older</td>\n",
       "      <td>F</td>\n",
       "      <td>White</td>\n",
       "      <td>Not Span/Hispanic</td>\n",
       "      <td>4</td>\n",
       "      <td>Urgent</td>\n",
       "      <td>Short-term Hospital</td>\n",
       "      <td>197</td>\n",
       "      <td>0</td>\n",
       "      <td>3</td>\n",
       "      <td>2</td>\n",
       "      <td>Medical</td>\n",
       "      <td>Y</td>\n",
       "      <td>4783.20</td>\n",
       "      <td>5162.82</td>\n",
       "      <td>1.079365</td>\n",
       "      <td>1</td>\n",
       "      <td>1</td>\n",
       "    </tr>\n",
       "  </tbody>\n",
       "</table>\n",
       "</div>"
      ],
      "text/plain": [
       "  Area_Service Hospital_County          Age Gender Cultural_group  \\\n",
       "0   Western NY        Allegany     30 to 49      F          White   \n",
       "1   Western NY        Allegany  70 or Older      F          White   \n",
       "\n",
       "           ethnicity  Days_spend_hsptl Admission_type    Home_or_self_care  \\\n",
       "0  Not Span/Hispanic                 4       Elective    Home or Self Care   \n",
       "1  Not Span/Hispanic                 4         Urgent  Short-term Hospital   \n",
       "\n",
       "   ccs_diagnosis_code  ccs_procedure_code  Code_illness  Mortality_risk  \\\n",
       "0                 122                   0             1               1   \n",
       "1                 197                   0             3               2   \n",
       "\n",
       "  Surg_Description Emergency_dept_yes_No  Tot_charg  Tot_cost  \\\n",
       "0          Medical                     Y    5511.95   5582.49   \n",
       "1          Medical                     Y    4783.20   5162.82   \n",
       "\n",
       "   ratio_of_total_costs_to_total_charges  Result  Payment_Typology  \n",
       "0                               1.012798       1                 1  \n",
       "1                               1.079365       1                 1  "
      ]
     },
     "execution_count": 19,
     "metadata": {
      "tags": []
     },
     "output_type": "execute_result"
    }
   ],
   "source": [
    "dataset.head(2)"
   ]
  },
  {
   "cell_type": "code",
   "execution_count": 18,
   "metadata": {
    "colab": {
     "base_uri": "https://localhost:8080/"
    },
    "id": "SsA2UZbQ9KIP",
    "outputId": "6ade353f-4360-4f1d-dd0e-abe1e1e05ec4"
   },
   "outputs": [
    {
     "data": {
      "text/plain": [
       "Index(['Area_Service', 'Hospital_County', 'Age', 'Gender', 'Cultural_group',\n",
       "       'ethnicity', 'Days_spend_hsptl', 'Admission_type', 'Home_or_self_care',\n",
       "       'ccs_diagnosis_code', 'ccs_procedure_code', 'Code_illness',\n",
       "       'Mortality_risk', 'Surg_Description', 'Emergency_dept_yes_No',\n",
       "       'Tot_charg', 'Tot_cost', 'ratio_of_total_costs_to_total_charges',\n",
       "       'Result', 'Payment_Typology'],\n",
       "      dtype='object')"
      ]
     },
     "execution_count": 18,
     "metadata": {},
     "output_type": "execute_result"
    }
   ],
   "source": [
    "dataset.columns"
   ]
  },
  {
   "cell_type": "code",
   "execution_count": 21,
   "metadata": {
    "id": "VDQhhkZ79KIQ"
   },
   "outputs": [],
   "source": [
    "dataset.to_csv('dataset_for_imb_trials.csv')"
   ]
  },
  {
   "cell_type": "markdown",
   "metadata": {
    "id": "mc5CDE-WpAvs"
   },
   "source": [
    "## D) Feature Encoding Technique"
   ]
  },
  {
   "cell_type": "code",
   "execution_count": 20,
   "metadata": {
    "id": "kujlLYm8pAvw"
   },
   "outputs": [],
   "source": [
    "from sklearn.preprocessing import LabelBinarizer, LabelEncoder\n",
    "label = LabelEncoder()\n",
    "label_binizer =LabelBinarizer()"
   ]
  },
  {
   "cell_type": "code",
   "execution_count": 22,
   "metadata": {
    "colab": {
     "base_uri": "https://localhost:8080/",
     "height": 165
    },
    "id": "nmtA-IUCpAvu",
    "outputId": "75e8cba6-eb5c-4da6-c78e-5908cbfcb59d"
   },
   "outputs": [
    {
     "data": {
      "text/html": [
       "<div>\n",
       "<style scoped>\n",
       "    .dataframe tbody tr th:only-of-type {\n",
       "        vertical-align: middle;\n",
       "    }\n",
       "\n",
       "    .dataframe tbody tr th {\n",
       "        vertical-align: top;\n",
       "    }\n",
       "\n",
       "    .dataframe thead th {\n",
       "        text-align: right;\n",
       "    }\n",
       "</style>\n",
       "<table border=\"1\" class=\"dataframe\">\n",
       "  <thead>\n",
       "    <tr style=\"text-align: right;\">\n",
       "      <th></th>\n",
       "      <th>Area_Service</th>\n",
       "      <th>Hospital_County</th>\n",
       "      <th>Age</th>\n",
       "      <th>Gender</th>\n",
       "      <th>Cultural_group</th>\n",
       "      <th>ethnicity</th>\n",
       "      <th>Days_spend_hsptl</th>\n",
       "      <th>Admission_type</th>\n",
       "      <th>Home_or_self_care</th>\n",
       "      <th>Surg_Description</th>\n",
       "      <th>Emergency_dept_yes_No</th>\n",
       "    </tr>\n",
       "  </thead>\n",
       "  <tbody>\n",
       "    <tr>\n",
       "      <th>0</th>\n",
       "      <td>Western NY</td>\n",
       "      <td>Allegany</td>\n",
       "      <td>30 to 49</td>\n",
       "      <td>F</td>\n",
       "      <td>White</td>\n",
       "      <td>Not Span/Hispanic</td>\n",
       "      <td>4</td>\n",
       "      <td>Elective</td>\n",
       "      <td>Home or Self Care</td>\n",
       "      <td>Medical</td>\n",
       "      <td>Y</td>\n",
       "    </tr>\n",
       "    <tr>\n",
       "      <th>1</th>\n",
       "      <td>Western NY</td>\n",
       "      <td>Allegany</td>\n",
       "      <td>70 or Older</td>\n",
       "      <td>F</td>\n",
       "      <td>White</td>\n",
       "      <td>Not Span/Hispanic</td>\n",
       "      <td>4</td>\n",
       "      <td>Urgent</td>\n",
       "      <td>Short-term Hospital</td>\n",
       "      <td>Medical</td>\n",
       "      <td>Y</td>\n",
       "    </tr>\n",
       "  </tbody>\n",
       "</table>\n",
       "</div>"
      ],
      "text/plain": [
       "  Area_Service Hospital_County          Age Gender Cultural_group  \\\n",
       "0   Western NY        Allegany     30 to 49      F          White   \n",
       "1   Western NY        Allegany  70 or Older      F          White   \n",
       "\n",
       "           ethnicity Days_spend_hsptl Admission_type    Home_or_self_care  \\\n",
       "0  Not Span/Hispanic                4       Elective    Home or Self Care   \n",
       "1  Not Span/Hispanic                4         Urgent  Short-term Hospital   \n",
       "\n",
       "  Surg_Description Emergency_dept_yes_No  \n",
       "0          Medical                     Y  \n",
       "1          Medical                     Y  "
      ]
     },
     "execution_count": 22,
     "metadata": {},
     "output_type": "execute_result"
    }
   ],
   "source": [
    "dataset.select_dtypes(include=['object']).head(2)"
   ]
  },
  {
   "cell_type": "code",
   "execution_count": 23,
   "metadata": {
    "colab": {
     "base_uri": "https://localhost:8080/"
    },
    "id": "D3kthFbu9KIR",
    "outputId": "62d463b2-1083-498e-939c-c47ce1efd78d"
   },
   "outputs": [
    {
     "name": "stdout",
     "output_type": "stream",
     "text": [
      "1) Area_Service : 7\n",
      "------------------------------------\n",
      "Hudson Valley      260070\n",
      "Western NY         179370\n",
      "Central NY         170223\n",
      "Capital/Adirond    170054\n",
      "Finger Lakes       155504\n",
      "New York City       74307\n",
      "Southern Tier       31737\n",
      "Name: Area_Service, dtype: int64\n",
      "====================================\n",
      "\n",
      "\n",
      "2) Hospital_County : 51\n",
      "------------------------------------\n",
      "Erie           128255\n",
      "Westchester    126622\n",
      "Monroe         110066\n",
      "Onondaga        80432\n",
      "Bronx           74307\n",
      "Albany          61542\n",
      "Orange          39665\n",
      "Rockland        35344\n",
      "Oneida          34080\n",
      "Dutchess        32141\n",
      "Broome          29742\n",
      "Schenectady     23069\n",
      "Niagara         21064\n",
      "Chemung         16667\n",
      "Warren          15459\n",
      "Rensselaer      13857\n",
      "Ulster          13606\n",
      "Otsego          13206\n",
      "Chautauqua      12757\n",
      "St Lawrence     12269\n",
      "Ontario         11987\n",
      "Jefferson       11923\n",
      "Clinton          9919\n",
      "Saratoga         8923\n",
      "Steuben          8798\n",
      "Putnam           7005\n",
      "Tompkins         6953\n",
      "Montgomery       6454\n",
      "Columbia         6315\n",
      "Oswego           6103\n",
      "Franklin         5870\n",
      "Cattaraugus      5749\n",
      "Sullivan         5687\n",
      "Cayuga           5685\n",
      "Madison          5091\n",
      "Genesee          4954\n",
      "Cortland         4849\n",
      "Wayne            4134\n",
      "Fulton           3507\n",
      "Wyoming          2419\n",
      "Livingston       2105\n",
      "Orleans          2102\n",
      "Allegany         2070\n",
      "Chenango         1995\n",
      "Lewis            1917\n",
      "Delaware          976\n",
      "Herkimer          921\n",
      "Yates             897\n",
      "Schuyler          850\n",
      "Schoharie         514\n",
      "Essex             443\n",
      "Name: Hospital_County, dtype: int64\n",
      "====================================\n",
      "\n",
      "\n",
      "3) Age : 5\n",
      "------------------------------------\n",
      "70 or Older    305802\n",
      "50 to 69       281714\n",
      "30 to 49       197730\n",
      "0 to 17        140040\n",
      "18 to 29       115979\n",
      "Name: Age, dtype: int64\n",
      "====================================\n",
      "\n",
      "\n",
      "4) Gender : 3\n",
      "------------------------------------\n",
      "F    588585\n",
      "M    452653\n",
      "U        27\n",
      "Name: Gender, dtype: int64\n",
      "====================================\n",
      "\n",
      "\n",
      "5) Cultural_group : 4\n",
      "------------------------------------\n",
      "White                     777034\n",
      "Black/African American    134127\n",
      "Other Race                126454\n",
      "Unknown                     3650\n",
      "Name: Cultural_group, dtype: int64\n",
      "====================================\n",
      "\n",
      "\n",
      "6) ethnicity : 3\n",
      "------------------------------------\n",
      "Not Span/Hispanic    904866\n",
      "Spanish/Hispanic      86918\n",
      "Unknown               49481\n",
      "Name: ethnicity, dtype: int64\n",
      "====================================\n",
      "\n",
      "\n",
      "7) Days_spend_hsptl : 120\n",
      "------------------------------------\n",
      "2        232527\n",
      "3        189545\n",
      "1        154202\n",
      "4        113534\n",
      "5         73580\n",
      "6         52842\n",
      "7         42173\n",
      "8         30455\n",
      "9         22291\n",
      "10        17776\n",
      "11        14237\n",
      "12        11304\n",
      "14        10397\n",
      "13        10357\n",
      "15         7369\n",
      "16         5781\n",
      "17         4833\n",
      "18         4043\n",
      "21         4012\n",
      "19         3541\n",
      "20         3447\n",
      "28         3110\n",
      "22         2685\n",
      "23         2255\n",
      "24         1988\n",
      "25         1777\n",
      "27         1697\n",
      "26         1644\n",
      "29         1368\n",
      "30         1036\n",
      "32          932\n",
      "31          889\n",
      "33          804\n",
      "120 +       762\n",
      "35          759\n",
      "34          749\n",
      "36          660\n",
      "37          528\n",
      "39          437\n",
      "40          435\n",
      "42          430\n",
      "38          428\n",
      "41          427\n",
      "43          386\n",
      "44          339\n",
      "48          320\n",
      "45          312\n",
      "47          275\n",
      "46          270\n",
      "49          265\n",
      "50          258\n",
      "56          202\n",
      "51          199\n",
      "52          191\n",
      "54          190\n",
      "55          180\n",
      "53          180\n",
      "59          174\n",
      "58          151\n",
      "57          149\n",
      "60          146\n",
      "62          141\n",
      "64          139\n",
      "61          123\n",
      "65          121\n",
      "70          106\n",
      "63          106\n",
      "68           99\n",
      "66           98\n",
      "71           95\n",
      "69           94\n",
      "67           80\n",
      "72           78\n",
      "75           70\n",
      "82           70\n",
      "85           68\n",
      "77           68\n",
      "76           67\n",
      "78           64\n",
      "73           59\n",
      "80           58\n",
      "74           55\n",
      "79           55\n",
      "84           52\n",
      "81           51\n",
      "83           50\n",
      "87           49\n",
      "89           48\n",
      "91           45\n",
      "94           44\n",
      "97           40\n",
      "93           39\n",
      "90           38\n",
      "104          35\n",
      "88           34\n",
      "92           33\n",
      "98           31\n",
      "86           30\n",
      "111          29\n",
      "99           28\n",
      "105          28\n",
      "103          27\n",
      "118          27\n",
      "96           26\n",
      "100          26\n",
      "119          26\n",
      "95           25\n",
      "112          25\n",
      "102          23\n",
      "106          23\n",
      "114          22\n",
      "115          21\n",
      "117          21\n",
      "109          21\n",
      "116          20\n",
      "108          20\n",
      "107          20\n",
      "110          19\n",
      "101          15\n",
      "113           7\n",
      "Name: Days_spend_hsptl, dtype: int64\n",
      "====================================\n",
      "\n",
      "\n",
      "8) Admission_type : 6\n",
      "------------------------------------\n",
      "Emergency        606383\n",
      "Elective         235122\n",
      "Urgent           109946\n",
      "Newborn           86542\n",
      "Trauma             2256\n",
      "Not Available      1016\n",
      "Name: Admission_type, dtype: int64\n",
      "====================================\n",
      "\n",
      "\n",
      "9) Home_or_self_care : 19\n",
      "------------------------------------\n",
      "Home or Self Care                        688168\n",
      "Home w/ Home Health Services             131885\n",
      "Skilled Nursing Home                     108858\n",
      "Expired                                   22781\n",
      "Short-term Hospital                       21414\n",
      "Inpatient Rehabilitation Facility         17349\n",
      "Left Against Medical Advice               16965\n",
      "Psychiatric Hospital or Unit of Hosp       6687\n",
      "Hospice - Medical Facility                 4781\n",
      "Hospice - Home                             4733\n",
      "Another Type Not Listed                    4533\n",
      "Facility w/ Custodial/Supportive Care      3480\n",
      "Court/Law Enforcement                      3256\n",
      "Medicare Cert Long Term Care Hospital      2127\n",
      "Cancer Center or Children's Hospital       1880\n",
      "Hosp Basd Medicare Approved Swing Bed      1874\n",
      "Federal Health Care Facility                455\n",
      "Critical Access Hospital                     32\n",
      "Medicaid Cert Nursing Facility                7\n",
      "Name: Home_or_self_care, dtype: int64\n",
      "====================================\n",
      "\n",
      "\n",
      "10) Surg_Description : 2\n",
      "------------------------------------\n",
      "Medical     799620\n",
      "Surgical    241645\n",
      "Name: Surg_Description, dtype: int64\n",
      "====================================\n",
      "\n",
      "\n",
      "11) Emergency_dept_yes_No : 2\n",
      "------------------------------------\n",
      "Y    587879\n",
      "N    453386\n",
      "Name: Emergency_dept_yes_No, dtype: int64\n",
      "====================================\n",
      "\n",
      "\n"
     ]
    }
   ],
   "source": [
    "categorical_col_name = []\n",
    "cnt_a = 0\n",
    "\n",
    "for column in dataset.columns:\n",
    "    if dataset[column].dtype == object and len(dataset[column].unique()):\n",
    "        categorical_col_name.append(column)\n",
    "        cnt_a += 1\n",
    "        print(f\"{cnt_a}) {column} : {dataset[column].nunique()}\")\n",
    "        print(\"------------------------------------\")\n",
    "        print(f\"{dataset[column].value_counts()}\")\n",
    "        print(\"====================================\\n\\n\")"
   ]
  },
  {
   "cell_type": "code",
   "execution_count": 24,
   "metadata": {
    "id": "xPE4JpvHpAvw"
   },
   "outputs": [],
   "source": [
    "# LabelEncoder features\n",
    "label_area = label.fit(dataset.Area_Service)\n",
    "label_Hospital_County = label.fit(dataset.Hospital_County)\n",
    "label_Age = label.fit(dataset.Age)\n",
    "label_Cultural_group = label.fit(dataset.Cultural_group)\n",
    "label_ethnicity= label.fit(dataset.ethnicity)\n",
    "label_Admission_type = label.fit(dataset.Admission_type)\n",
    "label_Home_or_self_care = label.fit(dataset.Home_or_self_care)\n",
    "\n",
    "# LabelBinarizer features\n",
    "one_hot_Gender = label_binizer.fit(dataset.Gender)\n",
    "one_hot_Surg_Description = label_binizer.fit(dataset.Surg_Description)\n",
    "one_hot_Emergency_dept_yes_No = label_binizer.fit(dataset.Emergency_dept_yes_No)"
   ]
  },
  {
   "cell_type": "code",
   "execution_count": 25,
   "metadata": {
    "id": "o0ZcYMoQpAvy"
   },
   "outputs": [],
   "source": [
    "label_encoder_list = [label_area, label_Hospital_County,\n",
    "                label_Age, label_Cultural_group,\n",
    "                label_ethnicity, label_Admission_type,\n",
    "                label_Home_or_self_care]\n",
    "\n",
    "one_hot_coder_list = [one_hot_Gender, one_hot_Surg_Description, one_hot_Emergency_dept_yes_No]"
   ]
  },
  {
   "cell_type": "markdown",
   "metadata": {
    "id": "MP0MFyUQpAvy"
   },
   "source": [
    "#### Pickling the encoding object & columns"
   ]
  },
  {
   "cell_type": "code",
   "execution_count": 26,
   "metadata": {
    "colab": {
     "base_uri": "https://localhost:8080/"
    },
    "id": "mAi0dU11pAvy",
    "outputId": "c30cffce-d689-40c6-ffe0-8f3c83e51f33"
   },
   "outputs": [
    {
     "data": {
      "text/plain": [
       "['label_encoder_list.joblib']"
      ]
     },
     "execution_count": 26,
     "metadata": {},
     "output_type": "execute_result"
    }
   ],
   "source": [
    "dump(label_encoder_list, 'label_encoder_list.joblib')"
   ]
  },
  {
   "cell_type": "code",
   "execution_count": 27,
   "metadata": {
    "colab": {
     "base_uri": "https://localhost:8080/"
    },
    "id": "vjD2oB5QpAvz",
    "outputId": "3a868c85-d5c8-4d9f-9e88-b139addcebc3"
   },
   "outputs": [
    {
     "data": {
      "text/plain": [
       "['one_hot_coder_list.joblib']"
      ]
     },
     "execution_count": 27,
     "metadata": {},
     "output_type": "execute_result"
    }
   ],
   "source": [
    "dump(one_hot_coder_list, 'one_hot_coder_list.joblib')"
   ]
  },
  {
   "cell_type": "code",
   "execution_count": 28,
   "metadata": {
    "id": "-nDxu1NVpAvz"
   },
   "outputs": [],
   "source": [
    "label_to_column = ['Area_Service', 'Hospital_County',\n",
    "                  'Age', 'Cultural_group', 'ethnicity',\n",
    "                  'Admission_type', 'Home_or_self_care']\n",
    "\n",
    "one_hot_column = ['Gender', 'Surg_Description', 'Emergency_dept_yes_No']"
   ]
  },
  {
   "cell_type": "code",
   "execution_count": 29,
   "metadata": {
    "colab": {
     "base_uri": "https://localhost:8080/"
    },
    "id": "Guqr_ZJbpAvz",
    "outputId": "72e6133b-172e-47d2-9efe-6c98add11f78"
   },
   "outputs": [
    {
     "data": {
      "text/plain": [
       "['label_to_column.joblib']"
      ]
     },
     "execution_count": 29,
     "metadata": {},
     "output_type": "execute_result"
    }
   ],
   "source": [
    "dump(label_to_column, 'label_to_column.joblib')"
   ]
  },
  {
   "cell_type": "code",
   "execution_count": 30,
   "metadata": {
    "colab": {
     "base_uri": "https://localhost:8080/"
    },
    "id": "lPVO88R3pAv0",
    "outputId": "eafb3c75-c188-4f16-a53d-7893e75d88f7"
   },
   "outputs": [
    {
     "data": {
      "text/plain": [
       "['one_hot_column.joblib']"
      ]
     },
     "execution_count": 30,
     "metadata": {},
     "output_type": "execute_result"
    }
   ],
   "source": [
    "dump(one_hot_column, 'one_hot_column.joblib')"
   ]
  },
  {
   "cell_type": "code",
   "execution_count": 32,
   "metadata": {
    "id": "mDyQiCWIpAv0"
   },
   "outputs": [],
   "source": [
    "# applyibng label encoding on columns..also this below cells can be used in deployment as well"
   ]
  },
  {
   "cell_type": "code",
   "execution_count": 31,
   "metadata": {
    "id": "ktCxva2RpAv1"
   },
   "outputs": [],
   "source": [
    "j = 0\n",
    "for i in label_to_column:\n",
    "    dataset[i] = label_encoder_list[j].fit_transform(dataset[i])\n",
    "    j =+1"
   ]
  },
  {
   "cell_type": "code",
   "execution_count": 34,
   "metadata": {
    "id": "kdOz7feZpAv2"
   },
   "outputs": [],
   "source": [
    "# applyibng one hot encoding on columns..also this below cells can be used in deployment as well"
   ]
  },
  {
   "cell_type": "code",
   "execution_count": 32,
   "metadata": {
    "id": "4jEL3kSjpAv3"
   },
   "outputs": [],
   "source": [
    "k = 0\n",
    "for i in one_hot_column:\n",
    "    dataset[i] = one_hot_coder_list[k].fit_transform(dataset[i])\n",
    "    k =+1"
   ]
  },
  {
   "cell_type": "code",
   "execution_count": 36,
   "metadata": {
    "colab": {
     "base_uri": "https://localhost:8080/",
     "height": 131
    },
    "id": "IcEM9bJwpAv4",
    "outputId": "0454f7da-13ab-4553-8c52-37897d885289"
   },
   "outputs": [
    {
     "data": {
      "text/html": [
       "<div>\n",
       "<style scoped>\n",
       "    .dataframe tbody tr th:only-of-type {\n",
       "        vertical-align: middle;\n",
       "    }\n",
       "\n",
       "    .dataframe tbody tr th {\n",
       "        vertical-align: top;\n",
       "    }\n",
       "\n",
       "    .dataframe thead th {\n",
       "        text-align: right;\n",
       "    }\n",
       "</style>\n",
       "<table border=\"1\" class=\"dataframe\">\n",
       "  <thead>\n",
       "    <tr style=\"text-align: right;\">\n",
       "      <th></th>\n",
       "      <th>Area_Service</th>\n",
       "      <th>Hospital_County</th>\n",
       "      <th>Age</th>\n",
       "      <th>Gender</th>\n",
       "      <th>Cultural_group</th>\n",
       "      <th>ethnicity</th>\n",
       "      <th>Days_spend_hsptl</th>\n",
       "      <th>Admission_type</th>\n",
       "      <th>Home_or_self_care</th>\n",
       "      <th>ccs_diagnosis_code</th>\n",
       "      <th>ccs_procedure_code</th>\n",
       "      <th>Code_illness</th>\n",
       "      <th>Mortality_risk</th>\n",
       "      <th>Surg_Description</th>\n",
       "      <th>Emergency_dept_yes_No</th>\n",
       "      <th>Tot_charg</th>\n",
       "      <th>Tot_cost</th>\n",
       "      <th>ratio_of_total_costs_to_total_charges</th>\n",
       "      <th>Result</th>\n",
       "      <th>Payment_Typology</th>\n",
       "    </tr>\n",
       "  </thead>\n",
       "  <tbody>\n",
       "    <tr>\n",
       "      <th>0</th>\n",
       "      <td>6</td>\n",
       "      <td>1</td>\n",
       "      <td>2</td>\n",
       "      <td>1</td>\n",
       "      <td>3</td>\n",
       "      <td>0</td>\n",
       "      <td>4</td>\n",
       "      <td>0</td>\n",
       "      <td>7</td>\n",
       "      <td>122</td>\n",
       "      <td>0</td>\n",
       "      <td>1</td>\n",
       "      <td>1</td>\n",
       "      <td>0</td>\n",
       "      <td>1</td>\n",
       "      <td>5511.95</td>\n",
       "      <td>5582.49</td>\n",
       "      <td>1.012798</td>\n",
       "      <td>1</td>\n",
       "      <td>1</td>\n",
       "    </tr>\n",
       "    <tr>\n",
       "      <th>1</th>\n",
       "      <td>6</td>\n",
       "      <td>1</td>\n",
       "      <td>4</td>\n",
       "      <td>1</td>\n",
       "      <td>3</td>\n",
       "      <td>0</td>\n",
       "      <td>4</td>\n",
       "      <td>5</td>\n",
       "      <td>17</td>\n",
       "      <td>197</td>\n",
       "      <td>0</td>\n",
       "      <td>3</td>\n",
       "      <td>2</td>\n",
       "      <td>0</td>\n",
       "      <td>1</td>\n",
       "      <td>4783.20</td>\n",
       "      <td>5162.82</td>\n",
       "      <td>1.079365</td>\n",
       "      <td>1</td>\n",
       "      <td>1</td>\n",
       "    </tr>\n",
       "  </tbody>\n",
       "</table>\n",
       "</div>"
      ],
      "text/plain": [
       "   Area_Service  Hospital_County  Age  Gender  Cultural_group  ethnicity  \\\n",
       "0             6                1    2       1               3          0   \n",
       "1             6                1    4       1               3          0   \n",
       "\n",
       "   Days_spend_hsptl  Admission_type  Home_or_self_care  ccs_diagnosis_code  \\\n",
       "0                 4               0                  7                 122   \n",
       "1                 4               5                 17                 197   \n",
       "\n",
       "   ccs_procedure_code  Code_illness  Mortality_risk  Surg_Description  \\\n",
       "0                   0             1               1                 0   \n",
       "1                   0             3               2                 0   \n",
       "\n",
       "   Emergency_dept_yes_No  Tot_charg  Tot_cost  \\\n",
       "0                      1    5511.95   5582.49   \n",
       "1                      1    4783.20   5162.82   \n",
       "\n",
       "   ratio_of_total_costs_to_total_charges  Result  Payment_Typology  \n",
       "0                               1.012798       1                 1  \n",
       "1                               1.079365       1                 1  "
      ]
     },
     "execution_count": 36,
     "metadata": {
      "tags": []
     },
     "output_type": "execute_result"
    }
   ],
   "source": [
    "dataset.head(2)"
   ]
  },
  {
   "cell_type": "code",
   "execution_count": 33,
   "metadata": {
    "colab": {
     "base_uri": "https://localhost:8080/"
    },
    "id": "EWBPEo6-ct1h",
    "outputId": "bc8482ec-2ab7-4dcf-fcb6-b5bec60fc723"
   },
   "outputs": [
    {
     "name": "stdout",
     "output_type": "stream",
     "text": [
      "Duplicate : 12240 and Null : 0 \n"
     ]
    }
   ],
   "source": [
    "data_duplicate_count = dataset.duplicated().sum()\n",
    "data_null_count = dataset.isnull().sum().sum()\n",
    "print('Duplicate : {d} and Null : {n} '.format(d=data_duplicate_count, n=data_null_count))"
   ]
  },
  {
   "cell_type": "code",
   "execution_count": 38,
   "metadata": {
    "id": "dAWdsSde9KIg"
   },
   "outputs": [],
   "source": [
    "dataset.to_csv('Dataset_for_models_2.csv')"
   ]
  },
  {
   "cell_type": "code",
   "execution_count": 74,
   "metadata": {},
   "outputs": [
    {
     "data": {
      "text/plain": [
       "Index(['Area_Service', 'Hospital_County', 'Age', 'Gender', 'Cultural_group',\n",
       "       'ethnicity', 'Days_spend_hsptl', 'Admission_type', 'Home_or_self_care',\n",
       "       'ccs_diagnosis_code', 'ccs_procedure_code', 'Code_illness',\n",
       "       'Mortality_risk', 'Surg_Description', 'Emergency_dept_yes_No',\n",
       "       'Tot_charg', 'Tot_cost', 'ratio_of_total_costs_to_total_charges',\n",
       "       'Result', 'Payment_Typology'],\n",
       "      dtype='object')"
      ]
     },
     "execution_count": 74,
     "metadata": {},
     "output_type": "execute_result"
    }
   ],
   "source": [
    "dataset.columns"
   ]
  },
  {
   "cell_type": "code",
   "execution_count": 75,
   "metadata": {},
   "outputs": [
    {
     "data": {
      "text/plain": [
       "120"
      ]
     },
     "execution_count": 75,
     "metadata": {},
     "output_type": "execute_result"
    }
   ],
   "source": [
    "dataset[\"Days_spend_hsptl\"].unique()  #### Removing noise in days spend hsptl col of \"+ 120\"\n",
    "d1=dataset.iloc[:,6].values\n",
    "d1=[v.replace(\" +\",\"\") for v in d1]\n",
    "dataset.iloc[:,6]=d1\n",
    "dataset.iloc[:,6].unique().shape[0]"
   ]
  },
  {
   "cell_type": "code",
   "execution_count": 39,
   "metadata": {
    "id": "dcIQUnw39KIg"
   },
   "outputs": [],
   "source": [
    "#dataset = pd.read_csv('Dataset_for_models_2.csv')\n",
    "#dataset.drop(['Unnamed: 0'], inplace = True, axis = 1)  \n",
    "#dataset.head(2)"
   ]
  },
  {
   "cell_type": "markdown",
   "metadata": {
    "id": "ackO8GJupAv6"
   },
   "source": [
    "## E) Data Balancing Strategy + Model Building + Model Performance Analysis"
   ]
  },
  {
   "cell_type": "markdown",
   "metadata": {
    "id": "zu55lY609KIh"
   },
   "source": [
    "Below are the strategies to deal with the unbalanced dataset and we have analysed the model performance based on these.\n",
    "\n",
    "\n",
    "### E) Upsampling strategy\n",
    "__E:1-__ Upsample the minority class before spliting\n",
    "\n",
    "__E:2-__ Upsample the minority class after spliting\n",
    "***\n",
    "### F) Model selection strategy\n",
    "__F:1-__ StratifiedKFold with random forest\n",
    "\n",
    "__F:2-__ train_test_split with random forest\n",
    "****"
   ]
  },
  {
   "cell_type": "markdown",
   "metadata": {
    "id": "hcR0gWRL9KIh"
   },
   "source": [
    "#### E:i- Extracting few samples from whole dataset for model analysis"
   ]
  },
  {
   "cell_type": "code",
   "execution_count": 76,
   "metadata": {
    "colab": {
     "base_uri": "https://localhost:8080/"
    },
    "id": "NoZom_ykpAv8",
    "outputId": "36cd483d-8a26-4d9b-939d-10c429ed44d8"
   },
   "outputs": [
    {
     "data": {
      "text/plain": [
       "1    15521\n",
       "0     5304\n",
       "Name: Result, dtype: int64"
      ]
     },
     "execution_count": 76,
     "metadata": {},
     "output_type": "execute_result"
    }
   ],
   "source": [
    "# taking 5% sample data from whole dataset\n",
    "sample_data = dataset.sample(frac=0.02)\n",
    "\n",
    "# checking for result column unique values counts..\n",
    "sample_data.Result.value_counts()"
   ]
  },
  {
   "cell_type": "code",
   "execution_count": 35,
   "metadata": {
    "colab": {
     "base_uri": "https://localhost:8080/",
     "height": 350
    },
    "id": "yhyGYzR2pAv9",
    "outputId": "77e837fe-b6e0-43cb-ae93-4a811f430a30"
   },
   "outputs": [
    {
     "data": {
      "image/png": "[encoded data removed]",
      "text/plain": [
       "<Figure size 504x360 with 1 Axes>"
      ]
     },
     "metadata": {
      "needs_background": "light"
     },
     "output_type": "display_data"
    }
   ],
   "source": [
    "# Check out the result feature proportions\n",
    "plt.subplots(figsize=(7, 5))\n",
    "sns.countplot(x = sample_data.Result, palette = 'viridis')\n",
    "plt.title('Counts for 0 and 1')\n",
    "plt.show()"
   ]
  },
  {
   "cell_type": "markdown",
   "metadata": {
    "id": "NrP-IQ9mpAv9"
   },
   "source": [
    "## E:1- Upsample the minority class before spliting\n",
    "__Before Spliting__ the Dataset, Upsample the minority classes to make equal proportion with majority classes."
   ]
  },
  {
   "cell_type": "code",
   "execution_count": 36,
   "metadata": {
    "id": "xYpjrBeLpAv-"
   },
   "outputs": [],
   "source": [
    "# seperating '0', & '1' label\n",
    "sample_minority = sample_data.loc[sample_data['Result']==0]\n",
    "sample_majority = sample_data.loc[sample_data['Result']==1]"
   ]
  },
  {
   "cell_type": "code",
   "execution_count": 37,
   "metadata": {
    "id": "bkAc32xSpAv-"
   },
   "outputs": [],
   "source": [
    "# Doing upsampling of minority classes\n",
    "from sklearn.utils import resample\n",
    "\n",
    "# [Taking ratio as 100:80(%)]\n",
    "sample_data_minority_upsampled = resample(sample_minority , replace=True, n_samples=12000, random_state=42) "
   ]
  },
  {
   "cell_type": "code",
   "execution_count": 38,
   "metadata": {
    "id": "WlUX9cozpAv_"
   },
   "outputs": [],
   "source": [
    "# Combining upsampled data to majority class data\n",
    "sample_data_upsampled = pd.concat([sample_majority, sample_data_minority_upsampled], ignore_index=True)"
   ]
  },
  {
   "cell_type": "code",
   "execution_count": 49,
   "metadata": {
    "colab": {
     "base_uri": "https://localhost:8080/"
    },
    "id": "ALM-7WGKfA3q",
    "outputId": "10370545-1903-492d-d322-bb4eadcd65d2"
   },
   "outputs": [
    {
     "data": {
      "text/plain": [
       "1    15499\n",
       "0    12000\n",
       "Name: Result, dtype: int64"
      ]
     },
     "execution_count": 49,
     "metadata": {},
     "output_type": "execute_result"
    }
   ],
   "source": [
    "sample_data_upsampled.Result.value_counts()"
   ]
  },
  {
   "cell_type": "code",
   "execution_count": 47,
   "metadata": {},
   "outputs": [
    {
     "data": {
      "text/plain": [
       "93"
      ]
     },
     "execution_count": 47,
     "metadata": {},
     "output_type": "execute_result"
    }
   ],
   "source": []
  },
  {
   "cell_type": "code",
   "execution_count": 48,
   "metadata": {},
   "outputs": [
    {
     "data": {
      "text/plain": [
       "array(['1', '2', '4', '24', '8', '3', '19', '7', '5', '10', '11', '12',\n",
       "       '9', '13', '16', '6', '21', '28', '43', '29', '18', '14', '96',\n",
       "       '49', '15', '33', '41', '31', '27', '47', '23', '75', '48', '32',\n",
       "       '45', '35', '20', '39', '30', '46', '17', '54', '55', '25', '37',\n",
       "       '68', '120', '22', '38', '94', '70', '42', '40', '88', '80', '95',\n",
       "       '36', '44', '66', '51', '34', '53', '104', '64', '85', '26', '62',\n",
       "       '81', '72', '58', '71', '56', '74', '78', '73', '103', '110', '89',\n",
       "       '98', '112', '77', '50', '69', '115', '61', '59', '105', '57',\n",
       "       '109', '111', '82', '116', '87'], dtype=object)"
      ]
     },
     "execution_count": 48,
     "metadata": {},
     "output_type": "execute_result"
    }
   ],
   "source": [
    "sample_data_upsampled[\"Days_spend_hsptl\"].unique()"
   ]
  },
  {
   "cell_type": "markdown",
   "metadata": {
    "id": "86iqZroq9KIl"
   },
   "source": [
    "__Observation:__\n",
    "\n",
    "    Initial class ratio on sample data                      Final class ratio on sample data\n",
    "       \n",
    "      class 1 - 15618                                           class 1 - 15618\n",
    "      class 0 - 5247                                            class 0 - 12000\n",
    "      "
   ]
  },
  {
   "cell_type": "code",
   "execution_count": 50,
   "metadata": {
    "id": "UDf8llhqpAv_"
   },
   "outputs": [],
   "source": [
    "# seperating indepedent & depedent variabales..\n",
    "x = sample_data_upsampled.drop(['Result'],axis=1).values\n",
    "y = sample_data_upsampled.Result.values"
   ]
  },
  {
   "cell_type": "markdown",
   "metadata": {
    "id": "R0EhwSoRpAwC"
   },
   "source": [
    "### F:1- StratifiedKFold with random forest (n_estimators = 100)"
   ]
  },
  {
   "cell_type": "code",
   "execution_count": 51,
   "metadata": {
    "id": "TkN3xA6wpAwA"
   },
   "outputs": [],
   "source": [
    "skf_15 = StratifiedKFold(n_splits=10, shuffle=True, random_state=1) \n",
    "\n",
    "for train_index, test_index in skf_15.split(x, y): \n",
    "    x_train_fold, x_test_fold = x[train_index], x[test_index] \n",
    "    y_train_fold, y_test_fold = y[train_index], y[test_index]"
   ]
  },
  {
   "cell_type": "code",
   "execution_count": 52,
   "metadata": {
    "id": "gpp4Ow9Y9KIn"
   },
   "outputs": [],
   "source": [
    "sample_RF_upsampled1 = RandomForestClassifier(n_estimators=100, random_state=42)\n",
    "clf_sample1 = sample_RF_upsampled1.fit(x_train_fold, y_train_fold)"
   ]
  },
  {
   "cell_type": "code",
   "execution_count": 53,
   "metadata": {
    "id": "_NhE33fZ9KIn"
   },
   "outputs": [],
   "source": [
    "y_pred_train = clf_sample1.predict(x_train_fold)\n",
    "y_pred = clf_sample1.predict(x_test_fold)"
   ]
  },
  {
   "cell_type": "code",
   "execution_count": 54,
   "metadata": {
    "colab": {
     "base_uri": "https://localhost:8080/"
    },
    "id": "3J2Zgm7C9KIo",
    "outputId": "dfd2bab5-568a-4bdd-f8e0-ca93cdffde70"
   },
   "outputs": [
    {
     "name": "stdout",
     "output_type": "stream",
     "text": [
      "              precision    recall  f1-score   support\n",
      "\n",
      "           0       1.00      1.00      1.00     10800\n",
      "           1       1.00      1.00      1.00     13950\n",
      "\n",
      "    accuracy                           1.00     24750\n",
      "   macro avg       1.00      1.00      1.00     24750\n",
      "weighted avg       1.00      1.00      1.00     24750\n",
      "\n"
     ]
    }
   ],
   "source": [
    "print(classification_report(y_train_fold, y_pred_train))"
   ]
  },
  {
   "cell_type": "code",
   "execution_count": 55,
   "metadata": {
    "colab": {
     "base_uri": "https://localhost:8080/"
    },
    "id": "XBXBR4Hr9KIo",
    "outputId": "cb18d26c-580c-4864-f109-96bb0b5059bd"
   },
   "outputs": [
    {
     "name": "stdout",
     "output_type": "stream",
     "text": [
      "              precision    recall  f1-score   support\n",
      "\n",
      "           0       0.91      0.87      0.89      1200\n",
      "           1       0.90      0.94      0.92      1549\n",
      "\n",
      "    accuracy                           0.91      2749\n",
      "   macro avg       0.91      0.90      0.90      2749\n",
      "weighted avg       0.91      0.91      0.91      2749\n",
      "\n"
     ]
    }
   ],
   "source": [
    "print(classification_report(y_test_fold, y_pred))"
   ]
  },
  {
   "cell_type": "code",
   "execution_count": 56,
   "metadata": {
    "colab": {
     "base_uri": "https://localhost:8080/"
    },
    "id": "TJ8nngmK9KIp",
    "outputId": "27faf9d2-db7a-4171-8c6c-5d0c49673358"
   },
   "outputs": [
    {
     "name": "stdout",
     "output_type": "stream",
     "text": [
      "Wall time: 44.3 s\n"
     ]
    },
    {
     "data": {
      "text/plain": [
       "array([0.89563636, 0.90381818, 0.89509091, 0.90290909, 0.89288962])"
      ]
     },
     "execution_count": 56,
     "metadata": {},
     "output_type": "execute_result"
    }
   ],
   "source": [
    "%%time\n",
    "cvs_clf_sample1 = cross_val_score(clf_sample1, x, y, cv = 5)\n",
    "cvs_clf_sample1 "
   ]
  },
  {
   "cell_type": "code",
   "execution_count": 57,
   "metadata": {
    "colab": {
     "base_uri": "https://localhost:8080/"
    },
    "id": "nfivi6x09KIp",
    "outputId": "f44e7baf-7a6b-4a99-e6dc-226db1a4cdec"
   },
   "outputs": [
    {
     "data": {
      "text/plain": [
       "0.8980688323496834"
      ]
     },
     "execution_count": 57,
     "metadata": {},
     "output_type": "execute_result"
    }
   ],
   "source": [
    "np.array(cvs_clf_sample1).mean()"
   ]
  },
  {
   "cell_type": "markdown",
   "metadata": {
    "id": "T_YZ5qf59KIq"
   },
   "source": [
    "### F:2- trainTest split with random forest (n_estimators = 100)"
   ]
  },
  {
   "cell_type": "code",
   "execution_count": 58,
   "metadata": {
    "id": "cHIzf5iA9KIq"
   },
   "outputs": [],
   "source": [
    "x_train, x_test, y_train, y_test = train_test_split(x, y, stratify=y, test_size=0.3, random_state=96)"
   ]
  },
  {
   "cell_type": "code",
   "execution_count": 59,
   "metadata": {
    "id": "oaxWZjfvpAwD"
   },
   "outputs": [],
   "source": [
    "sample_RF_upsampled2 = RandomForestClassifier(n_estimators=100, random_state=42)\n",
    "clf_sample2 = sample_RF_upsampled2.fit(x_train, y_train)"
   ]
  },
  {
   "cell_type": "code",
   "execution_count": 60,
   "metadata": {
    "id": "q4Z8eE2GpAwD"
   },
   "outputs": [],
   "source": [
    "y_pred_train = clf_sample2.predict(x_train)\n",
    "y_pred = clf_sample2.predict(x_test)"
   ]
  },
  {
   "cell_type": "code",
   "execution_count": 61,
   "metadata": {
    "colab": {
     "base_uri": "https://localhost:8080/"
    },
    "id": "UN7gOrkUpAwE",
    "outputId": "aef3df84-9c2c-4c16-b777-53c8a7f2d53b"
   },
   "outputs": [
    {
     "name": "stdout",
     "output_type": "stream",
     "text": [
      "              precision    recall  f1-score   support\n",
      "\n",
      "           0       1.00      1.00      1.00      8400\n",
      "           1       1.00      1.00      1.00     10849\n",
      "\n",
      "    accuracy                           1.00     19249\n",
      "   macro avg       1.00      1.00      1.00     19249\n",
      "weighted avg       1.00      1.00      1.00     19249\n",
      "\n"
     ]
    }
   ],
   "source": [
    "print(classification_report(y_train, y_pred_train))"
   ]
  },
  {
   "cell_type": "code",
   "execution_count": 62,
   "metadata": {
    "colab": {
     "base_uri": "https://localhost:8080/"
    },
    "id": "AhcB_jWspAwE",
    "outputId": "25673a98-0a63-4078-9232-a71ca62460a3",
    "scrolled": true
   },
   "outputs": [
    {
     "name": "stdout",
     "output_type": "stream",
     "text": [
      "              precision    recall  f1-score   support\n",
      "\n",
      "           0       0.89      0.80      0.85      3600\n",
      "           1       0.86      0.92      0.89      4650\n",
      "\n",
      "    accuracy                           0.87      8250\n",
      "   macro avg       0.88      0.86      0.87      8250\n",
      "weighted avg       0.87      0.87      0.87      8250\n",
      "\n"
     ]
    }
   ],
   "source": [
    "print(classification_report(y_test, y_pred ))"
   ]
  },
  {
   "cell_type": "code",
   "execution_count": 59,
   "metadata": {
    "colab": {
     "base_uri": "https://localhost:8080/"
    },
    "id": "mUHyBSyapAwF",
    "outputId": "a647ddb8-f60c-46cc-eca7-be91cf975aa9"
   },
   "outputs": [
    {
     "name": "stdout",
     "output_type": "stream",
     "text": [
      "CPU times: user 30.6 s, sys: 46.8 ms, total: 30.6 s\n",
      "Wall time: 30.8 s\n"
     ]
    }
   ],
   "source": [
    "%%time\n",
    "cvs_clf_sample2 = cross_val_score(clf_sample2, x, y, cv = 5)\n",
    "cvs_clf_sample2"
   ]
  },
  {
   "cell_type": "code",
   "execution_count": 60,
   "metadata": {
    "colab": {
     "base_uri": "https://localhost:8080/"
    },
    "id": "5Mm2y_an9KIt",
    "outputId": "5e7bf04b-2c4d-44b1-ce57-51787ced8b95"
   },
   "outputs": [
    {
     "data": {
      "text/plain": [
       "0.9016629509126574"
      ]
     },
     "execution_count": 60,
     "metadata": {
      "tags": []
     },
     "output_type": "execute_result"
    }
   ],
   "source": [
    "np.array(cvs_clf_sample2).mean()"
   ]
  },
  {
   "cell_type": "markdown",
   "metadata": {
    "id": "Fssnxi6apAwI"
   },
   "source": [
    "* Stratified k-fold gives best results __0.92__ over the regular spliting method __0.87__"
   ]
  },
  {
   "cell_type": "markdown",
   "metadata": {
    "id": "41F1LekP9KIu"
   },
   "source": [
    "## E:2- Upsample the minority class after spliting\n",
    "__After Spliting__ the Dataset, Upsample the minority classes to make equal proportion with majority classes."
   ]
  },
  {
   "cell_type": "code",
   "execution_count": 77,
   "metadata": {
    "id": "e8VzE6-NpAwJ"
   },
   "outputs": [],
   "source": [
    "x1 = sample_data.drop(['Result'],axis=1).values\n",
    "y1 = sample_data.Result.values"
   ]
  },
  {
   "cell_type": "markdown",
   "metadata": {
    "id": "s6Pz83jf9KIv"
   },
   "source": [
    "### F:1- StratifiedKFold with random forest (n_estimators = 100)"
   ]
  },
  {
   "cell_type": "code",
   "execution_count": 78,
   "metadata": {
    "id": "aR3BAuM8pAwK"
   },
   "outputs": [],
   "source": [
    "skf = StratifiedKFold(n_splits=10, shuffle=True, random_state=1) \n",
    "   \n",
    "for train_index, test_index in skf.split(x1, y1): \n",
    "    x_train_fold, x_test_fold = x1[train_index], x1[test_index] \n",
    "    y_train_fold, y_test_fold = y1[train_index], y1[test_index]"
   ]
  },
  {
   "cell_type": "code",
   "execution_count": 79,
   "metadata": {
    "colab": {
     "base_uri": "https://localhost:8080/"
    },
    "id": "m2xS-_V4pAwL",
    "outputId": "897e1e4f-66f1-4e68-f376-7c0a628611fa"
   },
   "outputs": [
    {
     "data": {
      "text/plain": [
       "Counter({1: 13969, 0: 4774})"
      ]
     },
     "execution_count": 79,
     "metadata": {},
     "output_type": "execute_result"
    }
   ],
   "source": [
    "Counter(y_train_fold)"
   ]
  },
  {
   "cell_type": "code",
   "execution_count": 80,
   "metadata": {
    "id": "tmYKzIA2pAwN"
   },
   "outputs": [],
   "source": [
    "x_train_df = pd.DataFrame(x_train_fold, columns=sample_data.drop(['Result'],axis=1).columns)\n",
    "y_train_df = pd.DataFrame(y_train_fold, columns=['Result'])\n",
    "\n",
    "df_train = pd.concat([x_train_df, y_train_df],axis=1)"
   ]
  },
  {
   "cell_type": "code",
   "execution_count": 81,
   "metadata": {
    "id": "0VeEEjwipAwN"
   },
   "outputs": [],
   "source": [
    "df_train_majority = df_train.loc[df_train['Result']==1]\n",
    "df_train_minority = df_train.loc[df_train['Result']==0]"
   ]
  },
  {
   "cell_type": "code",
   "execution_count": 68,
   "metadata": {
    "colab": {
     "base_uri": "https://localhost:8080/"
    },
    "id": "gKXNzFDWpAwN",
    "outputId": "e0a09905-d42e-4a60-b628-c6ee198bf624"
   },
   "outputs": [
    {
     "data": {
      "text/plain": [
       "(13949, 20)"
      ]
     },
     "execution_count": 68,
     "metadata": {},
     "output_type": "execute_result"
    }
   ],
   "source": [
    "df_train_majority.shape"
   ]
  },
  {
   "cell_type": "code",
   "execution_count": 69,
   "metadata": {
    "colab": {
     "base_uri": "https://localhost:8080/"
    },
    "id": "k8USaJs0pAwO",
    "outputId": "9a62c306-a687-4d4f-e327-c1406a040e95"
   },
   "outputs": [
    {
     "data": {
      "text/plain": [
       "(4794, 20)"
      ]
     },
     "execution_count": 69,
     "metadata": {},
     "output_type": "execute_result"
    }
   ],
   "source": [
    "df_train_minority.shape"
   ]
  },
  {
   "cell_type": "code",
   "execution_count": 82,
   "metadata": {
    "id": "Ae3ZNYg9pAwP"
   },
   "outputs": [],
   "source": [
    "# doing upsampling of minority classes\n",
    "from sklearn.utils import resample\n",
    "# [taking ratio as 100:80(%)]\n",
    "df_train_minority_upsampled = resample(df_train_minority , replace=True, n_samples=11245, random_state=42)"
   ]
  },
  {
   "cell_type": "code",
   "execution_count": 83,
   "metadata": {
    "id": "ad0vE6WQpAwP"
   },
   "outputs": [],
   "source": [
    "after_split_upsampled = pd.concat([df_train_majority, df_train_minority_upsampled])"
   ]
  },
  {
   "cell_type": "code",
   "execution_count": 84,
   "metadata": {
    "id": "-xfFkUSPpAwQ"
   },
   "outputs": [],
   "source": [
    "# splitting into x_train, y_train only..\n",
    "# Note: we have alerady splitted test sets using k fold...\n",
    "\n",
    "x_train_k_fold_upsampled = after_split_upsampled.drop(['Result'],axis=1).values\n",
    "y_train_k_fold_upsampled = after_split_upsampled.Result.values"
   ]
  },
  {
   "cell_type": "code",
   "execution_count": 85,
   "metadata": {
    "colab": {
     "base_uri": "https://localhost:8080/"
    },
    "id": "PrU02dZJpAwQ",
    "outputId": "1d2770c4-8631-4de1-e109-59e25047bb8e"
   },
   "outputs": [
    {
     "data": {
      "text/plain": [
       "RandomForestClassifier(n_estimators=15, random_state=42)"
      ]
     },
     "execution_count": 85,
     "metadata": {},
     "output_type": "execute_result"
    }
   ],
   "source": [
    "from sklearn.ensemble import RandomForestClassifier\n",
    "sample_RF15_after_split_upsampled = RandomForestClassifier(n_estimators=15, random_state=42)\n",
    "\n",
    "sample_RF15_after_split_upsampled.fit(x_train_k_fold_upsampled, y_train_k_fold_upsampled)"
   ]
  },
  {
   "cell_type": "code",
   "execution_count": 86,
   "metadata": {
    "id": "mud0aZP8pAwQ"
   },
   "outputs": [],
   "source": [
    "y_pred_train = sample_RF15_after_split_upsampled.predict(x_train_k_fold_upsampled)\n",
    "y_pred = sample_RF15_after_split_upsampled.predict(x_test_fold)"
   ]
  },
  {
   "cell_type": "code",
   "execution_count": 87,
   "metadata": {
    "colab": {
     "base_uri": "https://localhost:8080/"
    },
    "id": "jz1xKtVqpAwR",
    "outputId": "1606ef21-05bd-4575-f1a6-956de46364ee"
   },
   "outputs": [
    {
     "name": "stdout",
     "output_type": "stream",
     "text": [
      "              precision    recall  f1-score   support\n",
      "\n",
      "           0       1.00      1.00      1.00     11245\n",
      "           1       1.00      1.00      1.00     13969\n",
      "\n",
      "    accuracy                           1.00     25214\n",
      "   macro avg       1.00      1.00      1.00     25214\n",
      "weighted avg       1.00      1.00      1.00     25214\n",
      "\n"
     ]
    }
   ],
   "source": [
    "print(classification_report(y_train_k_fold_upsampled, y_pred_train))"
   ]
  },
  {
   "cell_type": "code",
   "execution_count": 88,
   "metadata": {
    "colab": {
     "base_uri": "https://localhost:8080/"
    },
    "id": "u0VQBacypAwR",
    "outputId": "46d9adf3-560b-484a-8dd4-59ef0b2b6709",
    "scrolled": true
   },
   "outputs": [
    {
     "name": "stdout",
     "output_type": "stream",
     "text": [
      "              precision    recall  f1-score   support\n",
      "\n",
      "           0       0.26      0.11      0.16       530\n",
      "           1       0.75      0.89      0.81      1552\n",
      "\n",
      "    accuracy                           0.69      2082\n",
      "   macro avg       0.50      0.50      0.48      2082\n",
      "weighted avg       0.62      0.69      0.65      2082\n",
      "\n"
     ]
    }
   ],
   "source": [
    "print(classification_report(y_test_fold, y_pred))"
   ]
  },
  {
   "cell_type": "markdown",
   "metadata": {
    "id": "ajw6zzH39KI1"
   },
   "source": [
    "### F:2- Train Test split with random forest (n_estimators = 100)"
   ]
  },
  {
   "cell_type": "code",
   "execution_count": 89,
   "metadata": {
    "id": "Wit82GMm9KI1"
   },
   "outputs": [],
   "source": [
    "x_train, x_test, y_train, y_test = train_test_split(x1, y1, stratify=y1, test_size=0.3, random_state=96)"
   ]
  },
  {
   "cell_type": "code",
   "execution_count": 90,
   "metadata": {
    "id": "6NZuevf59KI4"
   },
   "outputs": [],
   "source": [
    "x_train_df1 = pd.DataFrame(x_train, columns=sample_data.drop(['Result'],axis=1).columns)\n",
    "y_train_df1 = pd.DataFrame(y_train, columns=['Result'])\n",
    "\n",
    "df_train1 = pd.concat([x_train_df1, y_train_df1],axis=1)"
   ]
  },
  {
   "cell_type": "code",
   "execution_count": 91,
   "metadata": {
    "id": "KftSJDLg9KI5"
   },
   "outputs": [],
   "source": [
    "df_train_majority1 = df_train1.loc[df_train['Result']==1]\n",
    "df_train_minority1 = df_train1.loc[df_train['Result']==0]"
   ]
  },
  {
   "cell_type": "code",
   "execution_count": 78,
   "metadata": {
    "colab": {
     "base_uri": "https://localhost:8080/"
    },
    "id": "cbiBIy509KI5",
    "outputId": "8e61f69e-e879-4e03-ca6b-63f1ebe8807d"
   },
   "outputs": [
    {
     "data": {
      "text/plain": [
       "(10914, 20)"
      ]
     },
     "execution_count": 78,
     "metadata": {
      "tags": []
     },
     "output_type": "execute_result"
    }
   ],
   "source": [
    "df_train_majority1.shape"
   ]
  },
  {
   "cell_type": "code",
   "execution_count": 79,
   "metadata": {
    "colab": {
     "base_uri": "https://localhost:8080/"
    },
    "id": "EwSC-8N69KI6",
    "outputId": "fd1a05cd-052d-40bc-fb3e-1e3fc1a02fcb"
   },
   "outputs": [
    {
     "data": {
      "text/plain": [
       "(3663, 20)"
      ]
     },
     "execution_count": 79,
     "metadata": {
      "tags": []
     },
     "output_type": "execute_result"
    }
   ],
   "source": [
    "df_train_minority1.shape"
   ]
  },
  {
   "cell_type": "code",
   "execution_count": 92,
   "metadata": {
    "id": "rtGx9Z5o9KI6"
   },
   "outputs": [],
   "source": [
    "# doing upsampling of minority classes\n",
    "from sklearn.utils import resample\n",
    "# [taking ratio as 100:80(%)]\n",
    "df_train_minority_upsampled1 = resample(df_train_minority1 , replace=True, n_samples=8713, random_state=42)"
   ]
  },
  {
   "cell_type": "code",
   "execution_count": 93,
   "metadata": {
    "id": "n2tAzJIe9KI7"
   },
   "outputs": [],
   "source": [
    "after_split_upsampled1 = pd.concat([df_train_majority1, df_train_minority_upsampled1])"
   ]
  },
  {
   "cell_type": "code",
   "execution_count": 94,
   "metadata": {
    "id": "cFy9LgtC9KI7"
   },
   "outputs": [],
   "source": [
    "# splitting into x_train, y_train only..\n",
    "# Note: we have alerady splitted test sets using train test slpit...\n",
    "\n",
    "x_train_upsampled1 = after_split_upsampled1.drop(['Result'],axis=1).values\n",
    "y_train_upsampled1 = after_split_upsampled1.Result.values"
   ]
  },
  {
   "cell_type": "code",
   "execution_count": 95,
   "metadata": {
    "id": "oLpkPXAz9KI7"
   },
   "outputs": [],
   "source": [
    "sample_RF_upsampled2 = RandomForestClassifier(n_estimators=100, random_state=42)\n",
    "clf_sample2 = sample_RF_upsampled2.fit(x_train_upsampled1, y_train_upsampled1)"
   ]
  },
  {
   "cell_type": "code",
   "execution_count": 96,
   "metadata": {
    "id": "55W49eBM9KI8"
   },
   "outputs": [],
   "source": [
    "y_pred_train = clf_sample2.predict(x_train)\n",
    "y_pred = clf_sample2.predict(x_test)"
   ]
  },
  {
   "cell_type": "code",
   "execution_count": 97,
   "metadata": {
    "colab": {
     "base_uri": "https://localhost:8080/"
    },
    "id": "0_BrbKfN9KI8",
    "outputId": "cfd7f705-c1aa-4035-c3c4-fe5d5a7a6351"
   },
   "outputs": [
    {
     "name": "stdout",
     "output_type": "stream",
     "text": [
      "              precision    recall  f1-score   support\n",
      "\n",
      "           0       1.00      0.98      0.99      3713\n",
      "           1       0.99      1.00      1.00     10864\n",
      "\n",
      "    accuracy                           0.99     14577\n",
      "   macro avg       1.00      0.99      0.99     14577\n",
      "weighted avg       0.99      0.99      0.99     14577\n",
      "\n"
     ]
    }
   ],
   "source": [
    "print(classification_report(y_train, y_pred_train))"
   ]
  },
  {
   "cell_type": "code",
   "execution_count": 98,
   "metadata": {
    "colab": {
     "base_uri": "https://localhost:8080/"
    },
    "id": "AEO19_619KI9",
    "outputId": "e17b6cf2-5b2a-47e5-d6cb-707b383a9428",
    "scrolled": false
   },
   "outputs": [
    {
     "name": "stdout",
     "output_type": "stream",
     "text": [
      "              precision    recall  f1-score   support\n",
      "\n",
      "           0       0.17      0.02      0.03      1591\n",
      "           1       0.74      0.97      0.84      4657\n",
      "\n",
      "    accuracy                           0.73      6248\n",
      "   macro avg       0.45      0.49      0.44      6248\n",
      "weighted avg       0.60      0.73      0.64      6248\n",
      "\n"
     ]
    }
   ],
   "source": [
    "print(classification_report(y_test, y_pred))"
   ]
  },
  {
   "cell_type": "markdown",
   "metadata": {
    "id": "VS0vgGyL9KI9"
   },
   "source": [
    "__Observatoins__:\n",
    "- Upsamppling technique before the spliting is the best choice for balancing the dataset where StratifiedKFold is good (92%) ahead of train_test_split (87%)\n",
    "\n",
    "\n",
    "- Upsampling technique after the spliting is not much efficient for balancing the dataset where StratifiedKFold is good (70%) ahead of train_test_split (74%)"
   ]
  },
  {
   "cell_type": "markdown",
   "metadata": {
    "id": "29lOVy6mpAwS"
   },
   "source": [
    "## G) Final Model Building"
   ]
  },
  {
   "cell_type": "markdown",
   "metadata": {
    "id": "N0THrqQtpAwS"
   },
   "source": [
    "- From the observations with above section (E), we have select approach like __upsampling__ before the the split with __classifier random forest__.\n",
    "- We have use __train_test_split()__ method for spliting the dependent and independent features including stratify and for cross validation, we have use __StratifiedKFold__ as the data is unbalanced."
   ]
  },
  {
   "cell_type": "markdown",
   "metadata": {
    "id": "ey3D-3Nd9KJA"
   },
   "source": [
    "### G:1- Upsampling the minority data"
   ]
  },
  {
   "cell_type": "code",
   "execution_count": 99,
   "metadata": {
    "id": "i4xm2bf_pAwS"
   },
   "outputs": [],
   "source": [
    "data_minority = dataset.loc[dataset['Result']==0]\n",
    "data_majority = dataset.loc[dataset['Result']==1]"
   ]
  },
  {
   "cell_type": "code",
   "execution_count": 100,
   "metadata": {
    "colab": {
     "base_uri": "https://localhost:8080/"
    },
    "id": "OFdCM8HgpAwT",
    "outputId": "88f3aa14-755c-49e0-a96d-b81cc6759d79"
   },
   "outputs": [
    {
     "data": {
      "text/plain": [
       "(260904, 20)"
      ]
     },
     "execution_count": 100,
     "metadata": {},
     "output_type": "execute_result"
    }
   ],
   "source": [
    "data_minority.shape"
   ]
  },
  {
   "cell_type": "code",
   "execution_count": 101,
   "metadata": {
    "colab": {
     "base_uri": "https://localhost:8080/"
    },
    "id": "migTqEGCpAwT",
    "outputId": "134f97e9-3ca2-4a85-bf2c-050fdf59cbba"
   },
   "outputs": [
    {
     "data": {
      "text/plain": [
       "(780361, 20)"
      ]
     },
     "execution_count": 101,
     "metadata": {},
     "output_type": "execute_result"
    }
   ],
   "source": [
    "data_majority.shape"
   ]
  },
  {
   "cell_type": "code",
   "execution_count": 90,
   "metadata": {
    "colab": {
     "base_uri": "https://localhost:8080/"
    },
    "id": "peboiUUbpAwU",
    "outputId": "707173ff-07dc-44e5-f743-f57b8c25313a"
   },
   "outputs": [
    {
     "data": {
      "text/plain": [
       "663306.85"
      ]
     },
     "execution_count": 90,
     "metadata": {
      "tags": []
     },
     "output_type": "execute_result"
    }
   ],
   "source": [
    "780361*0.85"
   ]
  },
  {
   "cell_type": "code",
   "execution_count": 102,
   "metadata": {
    "id": "bzsciISepAwU"
   },
   "outputs": [],
   "source": [
    "from sklearn.utils import resample\n",
    "# doing upsampling of minority classes\n",
    "# [taking ratio as 100:85(%)]\n",
    "data_minority_upsampled = resample(data_minority, replace=True, n_samples=663307, random_state=42)"
   ]
  },
  {
   "cell_type": "code",
   "execution_count": 103,
   "metadata": {
    "id": "jQvqvY31pAwV"
   },
   "outputs": [],
   "source": [
    "data_upsampled = pd.concat([data_majority, data_minority_upsampled], ignore_index=True)"
   ]
  },
  {
   "cell_type": "code",
   "execution_count": 104,
   "metadata": {
    "colab": {
     "base_uri": "https://localhost:8080/"
    },
    "id": "7FzEVMgjW1Lt",
    "outputId": "dba3dd5f-be7d-444f-d4f7-9939c717d92e"
   },
   "outputs": [
    {
     "name": "stdout",
     "output_type": "stream",
     "text": [
      "(1443668, 20)\n"
     ]
    },
    {
     "data": {
      "text/plain": [
       "1    780361\n",
       "0    663307\n",
       "Name: Result, dtype: int64"
      ]
     },
     "execution_count": 104,
     "metadata": {},
     "output_type": "execute_result"
    }
   ],
   "source": [
    "from sklearn.utils import shuffle\n",
    "\n",
    "data_upsampled = shuffle(data_upsampled)\n",
    "print(data_upsampled.shape)\n",
    "data_upsampled.Result.value_counts()"
   ]
  },
  {
   "cell_type": "code",
   "execution_count": 105,
   "metadata": {
    "id": "FU9cD2eNpAwV"
   },
   "outputs": [],
   "source": [
    "X = data_upsampled.drop(['Result'],axis=1).values\n",
    "Y = data_upsampled.Result.values"
   ]
  },
  {
   "cell_type": "markdown",
   "metadata": {
    "id": "P8Ly9NpK9KJF"
   },
   "source": [
    "### G:2- Model building (split: train-test)"
   ]
  },
  {
   "cell_type": "code",
   "execution_count": 106,
   "metadata": {
    "id": "Je-nqVobiNSH"
   },
   "outputs": [],
   "source": [
    "from sklearn.model_selection import train_test_split\n",
    "\n",
    "X_train, X_test, Y_train, Y_test = train_test_split(X, Y, stratify=Y, test_size=0.2, random_state=101)"
   ]
  },
  {
   "cell_type": "code",
   "execution_count": 107,
   "metadata": {
    "colab": {
     "base_uri": "https://localhost:8080/"
    },
    "id": "Al-MIWcFiNOi",
    "outputId": "e5c89d24-efe6-45df-f5e1-b4e9788870ae"
   },
   "outputs": [
    {
     "name": "stdout",
     "output_type": "stream",
     "text": [
      "Wall time: 4min 49s\n"
     ]
    },
    {
     "data": {
      "text/plain": [
       "RandomForestClassifier(n_estimators=17, random_state=81)"
      ]
     },
     "execution_count": 107,
     "metadata": {},
     "output_type": "execute_result"
    }
   ],
   "source": [
    "%%time\n",
    "from sklearn.ensemble import RandomForestClassifier\n",
    "model_RF_upsampled = RandomForestClassifier(n_estimators=17, random_state=81) \n",
    "\n",
    "model_RF_upsampled.fit(X_train, Y_train)"
   ]
  },
  {
   "cell_type": "markdown",
   "metadata": {
    "id": "SI27tl8C9KJG"
   },
   "source": [
    "### G:3- Model testing and evaluation"
   ]
  },
  {
   "cell_type": "code",
   "execution_count": 108,
   "metadata": {
    "id": "0dB0r7QWmKnV"
   },
   "outputs": [],
   "source": [
    "Y_pred_train = model_RF_upsampled.predict(X_train)\n",
    "Y_pred_test = model_RF_upsampled.predict(X_test)\n",
    "Y_pred_whole = model_RF_upsampled.predict(dataset.drop(['Result'],axis=1))"
   ]
  },
  {
   "cell_type": "code",
   "execution_count": 109,
   "metadata": {
    "colab": {
     "base_uri": "https://localhost:8080/"
    },
    "id": "9DbkzuAliNKh",
    "outputId": "8112cb64-b4ca-4cb4-dc1c-20dcbbf79408"
   },
   "outputs": [
    {
     "name": "stdout",
     "output_type": "stream",
     "text": [
      "ROC-AUC score          : 0.8721892625629463\n",
      "\n",
      "Accuracy score (train) : 0.9934550372575403\n",
      "\n",
      "Accuracy score (test)  : 0.8717989568253133\n",
      "\n",
      "F1 score               : 0.8797252422326343\n",
      "\n",
      "Confusion matrix :\n",
      " [[116345  16317]\n",
      " [ 20699 135373]]\n",
      "\n",
      "classification report :\n",
      "               precision    recall  f1-score   support\n",
      "\n",
      "           0       0.85      0.88      0.86    132662\n",
      "           1       0.89      0.87      0.88    156072\n",
      "\n",
      "    accuracy                           0.87    288734\n",
      "   macro avg       0.87      0.87      0.87    288734\n",
      "weighted avg       0.87      0.87      0.87    288734\n",
      "\n"
     ]
    }
   ],
   "source": [
    "print('ROC-AUC score          :', roc_auc_score(Y_test, Y_pred_test))\n",
    "print('\\nAccuracy score (train) :', accuracy_score(Y_train, Y_pred_train)) # Accuracy classification score\n",
    "print('\\nAccuracy score (test)  :', accuracy_score(Y_test, Y_pred_test)) # Accuracy classification score\n",
    "print('\\nF1 score               :', f1_score(Y_test, Y_pred_test))\n",
    "print('\\nConfusion matrix :\\n', confusion_matrix(Y_test, Y_pred_test))\n",
    "print('\\nclassification report :\\n', classification_report(Y_test, Y_pred_test))"
   ]
  },
  {
   "cell_type": "markdown",
   "metadata": {
    "id": "Sp44rvag9KJH"
   },
   "source": [
    "### G:4- Model evaluation review for classes"
   ]
  },
  {
   "cell_type": "code",
   "execution_count": 110,
   "metadata": {
    "colab": {
     "base_uri": "https://localhost:8080/"
    },
    "id": "BLt2JDD_iNGp",
    "outputId": "743aa6e8-d5ca-4485-bb03-4b0c50b06bd5"
   },
   "outputs": [
    {
     "name": "stdout",
     "output_type": "stream",
     "text": [
      "              precision    recall  f1-score   support\n",
      "\n",
      "           0       0.99      0.99      0.99    530645\n",
      "           1       0.99      0.99      0.99    624289\n",
      "\n",
      "    accuracy                           0.99   1154934\n",
      "   macro avg       0.99      0.99      0.99   1154934\n",
      "weighted avg       0.99      0.99      0.99   1154934\n",
      "\n"
     ]
    }
   ],
   "source": [
    "# Training set\n",
    "print(classification_report(Y_train, Y_pred_train))"
   ]
  },
  {
   "cell_type": "code",
   "execution_count": 112,
   "metadata": {
    "colab": {
     "base_uri": "https://localhost:8080/",
     "height": 265
    },
    "id": "7RE_cCAhy63M",
    "outputId": "cd8f79c5-0b1f-4d0a-b656-49e46d7f7a4c"
   },
   "outputs": [
    {
     "data": {
      "image/png": "[encoded data removed]",
      "text/plain": [
       "<Figure size 432x288 with 2 Axes>"
      ]
     },
     "metadata": {
      "needs_background": "light"
     },
     "output_type": "display_data"
    }
   ],
   "source": [
    "# Training set\n",
    "sns.heatmap(confusion_matrix(Y_train, Y_pred_train), annot=True, fmt='.7g' )\n",
    "plt.show()"
   ]
  },
  {
   "cell_type": "code",
   "execution_count": 113,
   "metadata": {
    "colab": {
     "base_uri": "https://localhost:8080/"
    },
    "id": "ID5DaIwziNCx",
    "outputId": "d0e1d897-f8cc-4555-e6c2-b953352298ce"
   },
   "outputs": [
    {
     "name": "stdout",
     "output_type": "stream",
     "text": [
      "              precision    recall  f1-score   support\n",
      "\n",
      "           0       0.85      0.88      0.86    132662\n",
      "           1       0.89      0.87      0.88    156072\n",
      "\n",
      "    accuracy                           0.87    288734\n",
      "   macro avg       0.87      0.87      0.87    288734\n",
      "weighted avg       0.87      0.87      0.87    288734\n",
      "\n"
     ]
    }
   ],
   "source": [
    "# Testing set\n",
    "print(classification_report(Y_test, Y_pred_test))"
   ]
  },
  {
   "cell_type": "code",
   "execution_count": 114,
   "metadata": {
    "colab": {
     "base_uri": "https://localhost:8080/",
     "height": 265
    },
    "id": "XtCcSbLsy50N",
    "outputId": "21d87485-6a3d-4abc-c627-f15fe9a65e84"
   },
   "outputs": [
    {
     "data": {
      "image/png": "[encoded data removed]",
      "text/plain": [
       "<Figure size 432x288 with 2 Axes>"
      ]
     },
     "metadata": {
      "needs_background": "light"
     },
     "output_type": "display_data"
    }
   ],
   "source": [
    "# Testing set\n",
    "sns.heatmap(confusion_matrix(Y_test, Y_pred_test), annot=True, fmt='.7g' )\n",
    "plt.show()"
   ]
  },
  {
   "cell_type": "code",
   "execution_count": 115,
   "metadata": {
    "colab": {
     "base_uri": "https://localhost:8080/"
    },
    "id": "VjrRB00DiM_G",
    "outputId": "75044015-d4fa-43ca-f14c-b5e3cc10325f"
   },
   "outputs": [
    {
     "name": "stdout",
     "output_type": "stream",
     "text": [
      "              precision    recall  f1-score   support\n",
      "\n",
      "           0       0.90      0.88      0.89    260904\n",
      "           1       0.96      0.97      0.96    780361\n",
      "\n",
      "    accuracy                           0.95   1041265\n",
      "   macro avg       0.93      0.92      0.93   1041265\n",
      "weighted avg       0.94      0.95      0.94   1041265\n",
      "\n"
     ]
    }
   ],
   "source": [
    "# Unseen dataset (whole)\n",
    "print(classification_report(dataset.Result.values, Y_pred_whole))"
   ]
  },
  {
   "cell_type": "code",
   "execution_count": 116,
   "metadata": {
    "colab": {
     "base_uri": "https://localhost:8080/",
     "height": 265
    },
    "id": "rUZvpulfy2qU",
    "outputId": "5e265382-b1b4-4c46-b365-57c632de131f",
    "scrolled": true
   },
   "outputs": [
    {
     "data": {
      "image/png": "[encoded data removed]",
      "text/plain": [
       "<Figure size 432x288 with 2 Axes>"
      ]
     },
     "metadata": {
      "needs_background": "light"
     },
     "output_type": "display_data"
    }
   ],
   "source": [
    "# Unseen dataset (whole)\n",
    "sns.heatmap(confusion_matrix(dataset.Result.values, Y_pred_whole), annot=True, fmt='.7g' )\n",
    "plt.show()"
   ]
  },
  {
   "cell_type": "markdown",
   "metadata": {
    "id": "HBSSDBaK9KJK"
   },
   "source": [
    "### G:5- Model cross validation (Unseen dataset)"
   ]
  },
  {
   "cell_type": "code",
   "execution_count": 117,
   "metadata": {
    "id": "iykxsfo2vVsF"
   },
   "outputs": [],
   "source": [
    "# seperating indepedent & depedent variabales..\n",
    "X1 = dataset.drop(['Result'],axis=1).values\n",
    "Y1 = dataset.Result.values"
   ]
  },
  {
   "cell_type": "code",
   "execution_count": 118,
   "metadata": {
    "colab": {
     "base_uri": "https://localhost:8080/"
    },
    "id": "qhB_PPtqqyc1",
    "outputId": "cf6594d5-ebf5-4250-c5b3-0b89daa9999d",
    "scrolled": true
   },
   "outputs": [
    {
     "name": "stdout",
     "output_type": "stream",
     "text": [
      "train: [      0       1       2 ... 1041262 1041263 1041264] validation:  [      5       7      10 ... 1041257 1041259 1041261]\n",
      "train: [      1       2       3 ... 1041262 1041263 1041264] validation:  [      0      12      19 ... 1041251 1041255 1041258]\n",
      "train: [      0       1       2 ... 1041262 1041263 1041264] validation:  [      3       4      11 ... 1041243 1041248 1041253]\n"
     ]
    },
    {
     "ename": "KeyboardInterrupt",
     "evalue": "",
     "output_type": "error",
     "traceback": [
      "\u001b[1;31m---------------------------------------------------------------------------\u001b[0m",
      "\u001b[1;31mKeyboardInterrupt\u001b[0m                         Traceback (most recent call last)",
      "\u001b[1;32m<timed exec>\u001b[0m in \u001b[0;36m<module>\u001b[1;34m\u001b[0m\n",
      "\u001b[1;32m~\\Anaconda3\\envs\\project1\\lib\\site-packages\\sklearn\\ensemble\\_forest.py\u001b[0m in \u001b[0;36mfit\u001b[1;34m(self, X, y, sample_weight)\u001b[0m\n\u001b[0;32m    385\u001b[0m             \u001b[1;31m# parallel_backend contexts set at a higher level,\u001b[0m\u001b[1;33m\u001b[0m\u001b[1;33m\u001b[0m\u001b[1;33m\u001b[0m\u001b[0m\n\u001b[0;32m    386\u001b[0m             \u001b[1;31m# since correctness does not rely on using threads.\u001b[0m\u001b[1;33m\u001b[0m\u001b[1;33m\u001b[0m\u001b[1;33m\u001b[0m\u001b[0m\n\u001b[1;32m--> 387\u001b[1;33m             trees = Parallel(n_jobs=self.n_jobs, verbose=self.verbose,\n\u001b[0m\u001b[0;32m    388\u001b[0m                              \u001b[1;33m**\u001b[0m\u001b[0m_joblib_parallel_args\u001b[0m\u001b[1;33m(\u001b[0m\u001b[0mprefer\u001b[0m\u001b[1;33m=\u001b[0m\u001b[1;34m'threads'\u001b[0m\u001b[1;33m)\u001b[0m\u001b[1;33m)\u001b[0m\u001b[1;33m(\u001b[0m\u001b[1;33m\u001b[0m\u001b[1;33m\u001b[0m\u001b[0m\n\u001b[0;32m    389\u001b[0m                 delayed(_parallel_build_trees)(\n",
      "\u001b[1;32m~\\Anaconda3\\envs\\project1\\lib\\site-packages\\joblib\\parallel.py\u001b[0m in \u001b[0;36m__call__\u001b[1;34m(self, iterable)\u001b[0m\n\u001b[0;32m   1042\u001b[0m                 \u001b[0mself\u001b[0m\u001b[1;33m.\u001b[0m\u001b[0m_iterating\u001b[0m \u001b[1;33m=\u001b[0m \u001b[0mself\u001b[0m\u001b[1;33m.\u001b[0m\u001b[0m_original_iterator\u001b[0m \u001b[1;32mis\u001b[0m \u001b[1;32mnot\u001b[0m \u001b[1;32mNone\u001b[0m\u001b[1;33m\u001b[0m\u001b[1;33m\u001b[0m\u001b[0m\n\u001b[0;32m   1043\u001b[0m \u001b[1;33m\u001b[0m\u001b[0m\n\u001b[1;32m-> 1044\u001b[1;33m             \u001b[1;32mwhile\u001b[0m \u001b[0mself\u001b[0m\u001b[1;33m.\u001b[0m\u001b[0mdispatch_one_batch\u001b[0m\u001b[1;33m(\u001b[0m\u001b[0miterator\u001b[0m\u001b[1;33m)\u001b[0m\u001b[1;33m:\u001b[0m\u001b[1;33m\u001b[0m\u001b[1;33m\u001b[0m\u001b[0m\n\u001b[0m\u001b[0;32m   1045\u001b[0m                 \u001b[1;32mpass\u001b[0m\u001b[1;33m\u001b[0m\u001b[1;33m\u001b[0m\u001b[0m\n\u001b[0;32m   1046\u001b[0m \u001b[1;33m\u001b[0m\u001b[0m\n",
      "\u001b[1;32m~\\Anaconda3\\envs\\project1\\lib\\site-packages\\joblib\\parallel.py\u001b[0m in \u001b[0;36mdispatch_one_batch\u001b[1;34m(self, iterator)\u001b[0m\n\u001b[0;32m    857\u001b[0m                 \u001b[1;32mreturn\u001b[0m \u001b[1;32mFalse\u001b[0m\u001b[1;33m\u001b[0m\u001b[1;33m\u001b[0m\u001b[0m\n\u001b[0;32m    858\u001b[0m             \u001b[1;32melse\u001b[0m\u001b[1;33m:\u001b[0m\u001b[1;33m\u001b[0m\u001b[1;33m\u001b[0m\u001b[0m\n\u001b[1;32m--> 859\u001b[1;33m                 \u001b[0mself\u001b[0m\u001b[1;33m.\u001b[0m\u001b[0m_dispatch\u001b[0m\u001b[1;33m(\u001b[0m\u001b[0mtasks\u001b[0m\u001b[1;33m)\u001b[0m\u001b[1;33m\u001b[0m\u001b[1;33m\u001b[0m\u001b[0m\n\u001b[0m\u001b[0;32m    860\u001b[0m                 \u001b[1;32mreturn\u001b[0m \u001b[1;32mTrue\u001b[0m\u001b[1;33m\u001b[0m\u001b[1;33m\u001b[0m\u001b[0m\n\u001b[0;32m    861\u001b[0m \u001b[1;33m\u001b[0m\u001b[0m\n",
      "\u001b[1;32m~\\Anaconda3\\envs\\project1\\lib\\site-packages\\joblib\\parallel.py\u001b[0m in \u001b[0;36m_dispatch\u001b[1;34m(self, batch)\u001b[0m\n\u001b[0;32m    775\u001b[0m         \u001b[1;32mwith\u001b[0m \u001b[0mself\u001b[0m\u001b[1;33m.\u001b[0m\u001b[0m_lock\u001b[0m\u001b[1;33m:\u001b[0m\u001b[1;33m\u001b[0m\u001b[1;33m\u001b[0m\u001b[0m\n\u001b[0;32m    776\u001b[0m             \u001b[0mjob_idx\u001b[0m \u001b[1;33m=\u001b[0m \u001b[0mlen\u001b[0m\u001b[1;33m(\u001b[0m\u001b[0mself\u001b[0m\u001b[1;33m.\u001b[0m\u001b[0m_jobs\u001b[0m\u001b[1;33m)\u001b[0m\u001b[1;33m\u001b[0m\u001b[1;33m\u001b[0m\u001b[0m\n\u001b[1;32m--> 777\u001b[1;33m             \u001b[0mjob\u001b[0m \u001b[1;33m=\u001b[0m \u001b[0mself\u001b[0m\u001b[1;33m.\u001b[0m\u001b[0m_backend\u001b[0m\u001b[1;33m.\u001b[0m\u001b[0mapply_async\u001b[0m\u001b[1;33m(\u001b[0m\u001b[0mbatch\u001b[0m\u001b[1;33m,\u001b[0m \u001b[0mcallback\u001b[0m\u001b[1;33m=\u001b[0m\u001b[0mcb\u001b[0m\u001b[1;33m)\u001b[0m\u001b[1;33m\u001b[0m\u001b[1;33m\u001b[0m\u001b[0m\n\u001b[0m\u001b[0;32m    778\u001b[0m             \u001b[1;31m# A job can complete so quickly than its callback is\u001b[0m\u001b[1;33m\u001b[0m\u001b[1;33m\u001b[0m\u001b[1;33m\u001b[0m\u001b[0m\n\u001b[0;32m    779\u001b[0m             \u001b[1;31m# called before we get here, causing self._jobs to\u001b[0m\u001b[1;33m\u001b[0m\u001b[1;33m\u001b[0m\u001b[1;33m\u001b[0m\u001b[0m\n",
      "\u001b[1;32m~\\Anaconda3\\envs\\project1\\lib\\site-packages\\joblib\\_parallel_backends.py\u001b[0m in \u001b[0;36mapply_async\u001b[1;34m(self, func, callback)\u001b[0m\n\u001b[0;32m    206\u001b[0m     \u001b[1;32mdef\u001b[0m \u001b[0mapply_async\u001b[0m\u001b[1;33m(\u001b[0m\u001b[0mself\u001b[0m\u001b[1;33m,\u001b[0m \u001b[0mfunc\u001b[0m\u001b[1;33m,\u001b[0m \u001b[0mcallback\u001b[0m\u001b[1;33m=\u001b[0m\u001b[1;32mNone\u001b[0m\u001b[1;33m)\u001b[0m\u001b[1;33m:\u001b[0m\u001b[1;33m\u001b[0m\u001b[1;33m\u001b[0m\u001b[0m\n\u001b[0;32m    207\u001b[0m         \u001b[1;34m\"\"\"Schedule a func to be run\"\"\"\u001b[0m\u001b[1;33m\u001b[0m\u001b[1;33m\u001b[0m\u001b[0m\n\u001b[1;32m--> 208\u001b[1;33m         \u001b[0mresult\u001b[0m \u001b[1;33m=\u001b[0m \u001b[0mImmediateResult\u001b[0m\u001b[1;33m(\u001b[0m\u001b[0mfunc\u001b[0m\u001b[1;33m)\u001b[0m\u001b[1;33m\u001b[0m\u001b[1;33m\u001b[0m\u001b[0m\n\u001b[0m\u001b[0;32m    209\u001b[0m         \u001b[1;32mif\u001b[0m \u001b[0mcallback\u001b[0m\u001b[1;33m:\u001b[0m\u001b[1;33m\u001b[0m\u001b[1;33m\u001b[0m\u001b[0m\n\u001b[0;32m    210\u001b[0m             \u001b[0mcallback\u001b[0m\u001b[1;33m(\u001b[0m\u001b[0mresult\u001b[0m\u001b[1;33m)\u001b[0m\u001b[1;33m\u001b[0m\u001b[1;33m\u001b[0m\u001b[0m\n",
      "\u001b[1;32m~\\Anaconda3\\envs\\project1\\lib\\site-packages\\joblib\\_parallel_backends.py\u001b[0m in \u001b[0;36m__init__\u001b[1;34m(self, batch)\u001b[0m\n\u001b[0;32m    570\u001b[0m         \u001b[1;31m# Don't delay the application, to avoid keeping the input\u001b[0m\u001b[1;33m\u001b[0m\u001b[1;33m\u001b[0m\u001b[1;33m\u001b[0m\u001b[0m\n\u001b[0;32m    571\u001b[0m         \u001b[1;31m# arguments in memory\u001b[0m\u001b[1;33m\u001b[0m\u001b[1;33m\u001b[0m\u001b[1;33m\u001b[0m\u001b[0m\n\u001b[1;32m--> 572\u001b[1;33m         \u001b[0mself\u001b[0m\u001b[1;33m.\u001b[0m\u001b[0mresults\u001b[0m \u001b[1;33m=\u001b[0m \u001b[0mbatch\u001b[0m\u001b[1;33m(\u001b[0m\u001b[1;33m)\u001b[0m\u001b[1;33m\u001b[0m\u001b[1;33m\u001b[0m\u001b[0m\n\u001b[0m\u001b[0;32m    573\u001b[0m \u001b[1;33m\u001b[0m\u001b[0m\n\u001b[0;32m    574\u001b[0m     \u001b[1;32mdef\u001b[0m \u001b[0mget\u001b[0m\u001b[1;33m(\u001b[0m\u001b[0mself\u001b[0m\u001b[1;33m)\u001b[0m\u001b[1;33m:\u001b[0m\u001b[1;33m\u001b[0m\u001b[1;33m\u001b[0m\u001b[0m\n",
      "\u001b[1;32m~\\Anaconda3\\envs\\project1\\lib\\site-packages\\joblib\\parallel.py\u001b[0m in \u001b[0;36m__call__\u001b[1;34m(self)\u001b[0m\n\u001b[0;32m    260\u001b[0m         \u001b[1;31m# change the default number of processes to -1\u001b[0m\u001b[1;33m\u001b[0m\u001b[1;33m\u001b[0m\u001b[1;33m\u001b[0m\u001b[0m\n\u001b[0;32m    261\u001b[0m         \u001b[1;32mwith\u001b[0m \u001b[0mparallel_backend\u001b[0m\u001b[1;33m(\u001b[0m\u001b[0mself\u001b[0m\u001b[1;33m.\u001b[0m\u001b[0m_backend\u001b[0m\u001b[1;33m,\u001b[0m \u001b[0mn_jobs\u001b[0m\u001b[1;33m=\u001b[0m\u001b[0mself\u001b[0m\u001b[1;33m.\u001b[0m\u001b[0m_n_jobs\u001b[0m\u001b[1;33m)\u001b[0m\u001b[1;33m:\u001b[0m\u001b[1;33m\u001b[0m\u001b[1;33m\u001b[0m\u001b[0m\n\u001b[1;32m--> 262\u001b[1;33m             return [func(*args, **kwargs)\n\u001b[0m\u001b[0;32m    263\u001b[0m                     for func, args, kwargs in self.items]\n\u001b[0;32m    264\u001b[0m \u001b[1;33m\u001b[0m\u001b[0m\n",
      "\u001b[1;32m~\\Anaconda3\\envs\\project1\\lib\\site-packages\\joblib\\parallel.py\u001b[0m in \u001b[0;36m<listcomp>\u001b[1;34m(.0)\u001b[0m\n\u001b[0;32m    260\u001b[0m         \u001b[1;31m# change the default number of processes to -1\u001b[0m\u001b[1;33m\u001b[0m\u001b[1;33m\u001b[0m\u001b[1;33m\u001b[0m\u001b[0m\n\u001b[0;32m    261\u001b[0m         \u001b[1;32mwith\u001b[0m \u001b[0mparallel_backend\u001b[0m\u001b[1;33m(\u001b[0m\u001b[0mself\u001b[0m\u001b[1;33m.\u001b[0m\u001b[0m_backend\u001b[0m\u001b[1;33m,\u001b[0m \u001b[0mn_jobs\u001b[0m\u001b[1;33m=\u001b[0m\u001b[0mself\u001b[0m\u001b[1;33m.\u001b[0m\u001b[0m_n_jobs\u001b[0m\u001b[1;33m)\u001b[0m\u001b[1;33m:\u001b[0m\u001b[1;33m\u001b[0m\u001b[1;33m\u001b[0m\u001b[0m\n\u001b[1;32m--> 262\u001b[1;33m             return [func(*args, **kwargs)\n\u001b[0m\u001b[0;32m    263\u001b[0m                     for func, args, kwargs in self.items]\n\u001b[0;32m    264\u001b[0m \u001b[1;33m\u001b[0m\u001b[0m\n",
      "\u001b[1;32m~\\Anaconda3\\envs\\project1\\lib\\site-packages\\sklearn\\utils\\fixes.py\u001b[0m in \u001b[0;36m__call__\u001b[1;34m(self, *args, **kwargs)\u001b[0m\n\u001b[0;32m    220\u001b[0m     \u001b[1;32mdef\u001b[0m \u001b[0m__call__\u001b[0m\u001b[1;33m(\u001b[0m\u001b[0mself\u001b[0m\u001b[1;33m,\u001b[0m \u001b[1;33m*\u001b[0m\u001b[0margs\u001b[0m\u001b[1;33m,\u001b[0m \u001b[1;33m**\u001b[0m\u001b[0mkwargs\u001b[0m\u001b[1;33m)\u001b[0m\u001b[1;33m:\u001b[0m\u001b[1;33m\u001b[0m\u001b[1;33m\u001b[0m\u001b[0m\n\u001b[0;32m    221\u001b[0m         \u001b[1;32mwith\u001b[0m \u001b[0mconfig_context\u001b[0m\u001b[1;33m(\u001b[0m\u001b[1;33m**\u001b[0m\u001b[0mself\u001b[0m\u001b[1;33m.\u001b[0m\u001b[0mconfig\u001b[0m\u001b[1;33m)\u001b[0m\u001b[1;33m:\u001b[0m\u001b[1;33m\u001b[0m\u001b[1;33m\u001b[0m\u001b[0m\n\u001b[1;32m--> 222\u001b[1;33m             \u001b[1;32mreturn\u001b[0m \u001b[0mself\u001b[0m\u001b[1;33m.\u001b[0m\u001b[0mfunction\u001b[0m\u001b[1;33m(\u001b[0m\u001b[1;33m*\u001b[0m\u001b[0margs\u001b[0m\u001b[1;33m,\u001b[0m \u001b[1;33m**\u001b[0m\u001b[0mkwargs\u001b[0m\u001b[1;33m)\u001b[0m\u001b[1;33m\u001b[0m\u001b[1;33m\u001b[0m\u001b[0m\n\u001b[0m",
      "\u001b[1;32m~\\Anaconda3\\envs\\project1\\lib\\site-packages\\sklearn\\ensemble\\_forest.py\u001b[0m in \u001b[0;36m_parallel_build_trees\u001b[1;34m(tree, forest, X, y, sample_weight, tree_idx, n_trees, verbose, class_weight, n_samples_bootstrap)\u001b[0m\n\u001b[0;32m    167\u001b[0m                                                         indices=indices)\n\u001b[0;32m    168\u001b[0m \u001b[1;33m\u001b[0m\u001b[0m\n\u001b[1;32m--> 169\u001b[1;33m         \u001b[0mtree\u001b[0m\u001b[1;33m.\u001b[0m\u001b[0mfit\u001b[0m\u001b[1;33m(\u001b[0m\u001b[0mX\u001b[0m\u001b[1;33m,\u001b[0m \u001b[0my\u001b[0m\u001b[1;33m,\u001b[0m \u001b[0msample_weight\u001b[0m\u001b[1;33m=\u001b[0m\u001b[0mcurr_sample_weight\u001b[0m\u001b[1;33m,\u001b[0m \u001b[0mcheck_input\u001b[0m\u001b[1;33m=\u001b[0m\u001b[1;32mFalse\u001b[0m\u001b[1;33m)\u001b[0m\u001b[1;33m\u001b[0m\u001b[1;33m\u001b[0m\u001b[0m\n\u001b[0m\u001b[0;32m    170\u001b[0m     \u001b[1;32melse\u001b[0m\u001b[1;33m:\u001b[0m\u001b[1;33m\u001b[0m\u001b[1;33m\u001b[0m\u001b[0m\n\u001b[0;32m    171\u001b[0m         \u001b[0mtree\u001b[0m\u001b[1;33m.\u001b[0m\u001b[0mfit\u001b[0m\u001b[1;33m(\u001b[0m\u001b[0mX\u001b[0m\u001b[1;33m,\u001b[0m \u001b[0my\u001b[0m\u001b[1;33m,\u001b[0m \u001b[0msample_weight\u001b[0m\u001b[1;33m=\u001b[0m\u001b[0msample_weight\u001b[0m\u001b[1;33m,\u001b[0m \u001b[0mcheck_input\u001b[0m\u001b[1;33m=\u001b[0m\u001b[1;32mFalse\u001b[0m\u001b[1;33m)\u001b[0m\u001b[1;33m\u001b[0m\u001b[1;33m\u001b[0m\u001b[0m\n",
      "\u001b[1;32m~\\Anaconda3\\envs\\project1\\lib\\site-packages\\sklearn\\tree\\_classes.py\u001b[0m in \u001b[0;36mfit\u001b[1;34m(self, X, y, sample_weight, check_input, X_idx_sorted)\u001b[0m\n\u001b[0;32m    896\u001b[0m         \"\"\"\n\u001b[0;32m    897\u001b[0m \u001b[1;33m\u001b[0m\u001b[0m\n\u001b[1;32m--> 898\u001b[1;33m         super().fit(\n\u001b[0m\u001b[0;32m    899\u001b[0m             \u001b[0mX\u001b[0m\u001b[1;33m,\u001b[0m \u001b[0my\u001b[0m\u001b[1;33m,\u001b[0m\u001b[1;33m\u001b[0m\u001b[1;33m\u001b[0m\u001b[0m\n\u001b[0;32m    900\u001b[0m             \u001b[0msample_weight\u001b[0m\u001b[1;33m=\u001b[0m\u001b[0msample_weight\u001b[0m\u001b[1;33m,\u001b[0m\u001b[1;33m\u001b[0m\u001b[1;33m\u001b[0m\u001b[0m\n",
      "\u001b[1;32m~\\Anaconda3\\envs\\project1\\lib\\site-packages\\sklearn\\tree\\_classes.py\u001b[0m in \u001b[0;36mfit\u001b[1;34m(self, X, y, sample_weight, check_input, X_idx_sorted)\u001b[0m\n\u001b[0;32m    387\u001b[0m                                            min_impurity_split)\n\u001b[0;32m    388\u001b[0m \u001b[1;33m\u001b[0m\u001b[0m\n\u001b[1;32m--> 389\u001b[1;33m         \u001b[0mbuilder\u001b[0m\u001b[1;33m.\u001b[0m\u001b[0mbuild\u001b[0m\u001b[1;33m(\u001b[0m\u001b[0mself\u001b[0m\u001b[1;33m.\u001b[0m\u001b[0mtree_\u001b[0m\u001b[1;33m,\u001b[0m \u001b[0mX\u001b[0m\u001b[1;33m,\u001b[0m \u001b[0my\u001b[0m\u001b[1;33m,\u001b[0m \u001b[0msample_weight\u001b[0m\u001b[1;33m)\u001b[0m\u001b[1;33m\u001b[0m\u001b[1;33m\u001b[0m\u001b[0m\n\u001b[0m\u001b[0;32m    390\u001b[0m \u001b[1;33m\u001b[0m\u001b[0m\n\u001b[0;32m    391\u001b[0m         \u001b[1;32mif\u001b[0m \u001b[0mself\u001b[0m\u001b[1;33m.\u001b[0m\u001b[0mn_outputs_\u001b[0m \u001b[1;33m==\u001b[0m \u001b[1;36m1\u001b[0m \u001b[1;32mand\u001b[0m \u001b[0mis_classifier\u001b[0m\u001b[1;33m(\u001b[0m\u001b[0mself\u001b[0m\u001b[1;33m)\u001b[0m\u001b[1;33m:\u001b[0m\u001b[1;33m\u001b[0m\u001b[1;33m\u001b[0m\u001b[0m\n",
      "\u001b[1;31mKeyboardInterrupt\u001b[0m: "
     ]
    }
   ],
   "source": [
    "%%time\n",
    "# Model cross validation (Unseen dataset)\n",
    "# Note: it takes long time to cross validate\n",
    "\n",
    "skf = StratifiedKFold(n_splits=5, shuffle=True, random_state=256) \n",
    "\n",
    "lst_accu_stratified = [] \n",
    "\n",
    "for train_index, test_index in skf.split(X1, Y1): \n",
    "    print('train:', train_index, 'validation: ', test_index)\n",
    "    x_train_fold, x_test_fold = X1[train_index], X1[test_index] \n",
    "    y_train_fold, y_test_fold = Y1[train_index], Y1[test_index] \n",
    "    \n",
    "    model_RF_upsampled.fit(x_train_fold, y_train_fold) \n",
    "\n",
    "    lst_accu_stratified.append(model_RF_upsampled.score(x_test_fold, y_test_fold)) \n",
    "\n",
    "# Print the output. \n",
    "print(\"-------------------------------------------------------------------\")\n",
    "\n",
    "print('List of possible accuracy:', lst_accu_stratified) \n",
    "print('\\nMaximum Accuracy That can be obtained from this model is:', \n",
    "      max(lst_accu_stratified)*100, '%') \n",
    "print('\\nMinimum Accuracy:', \n",
    "      min(lst_accu_stratified)*100, '%') \n",
    "print('\\nOverall Accuracy:', \n",
    "      np.mean(lst_accu_stratified)*100, '%') \n",
    "print('\\nStandard Deviation is:', np.std(lst_accu_stratified))"
   ]
  },
  {
   "cell_type": "code",
   "execution_count": 107,
   "metadata": {
    "colab": {
     "base_uri": "https://localhost:8080/"
    },
    "id": "Ukjn1heh4PU2",
    "outputId": "26ebaf5b-ab6d-484b-86f9-608438afa77d"
   },
   "outputs": [
    {
     "name": "stdout",
     "output_type": "stream",
     "text": [
      "[0.72682746 0.73066414 0.71999443 0.72989585 0.71989839]\n",
      "CPU times: user 7min 41s, sys: 2.18 s, total: 7min 43s\n",
      "Wall time: 7min 48s\n"
     ]
    }
   ],
   "source": [
    "%%time\n",
    "# # # checking cross value score...\n",
    "cvs_rf_whole = cross_val_score(model_RF_upsampled, X1, Y1, cv=5) # Note: it takes long time to cross validate\n",
    "print(cvs_rf_whole)\n",
    "np.array(cvs_rf_whole).mean()"
   ]
  },
  {
   "cell_type": "code",
   "execution_count": 108,
   "metadata": {
    "colab": {
     "base_uri": "https://localhost:8080/"
    },
    "id": "pdzlZXwxAnvD",
    "outputId": "8a748284-25aa-4fd2-dbeb-adff92e930ed"
   },
   "outputs": [
    {
     "name": "stdout",
     "output_type": "stream",
     "text": [
      "train: [      0       1       2 ... 1443663 1443664 1443667] validation:  [      6       7       9 ... 1443661 1443665 1443666]\n",
      "train: [      2       3       4 ... 1443665 1443666 1443667] validation:  [      0       1      17 ... 1443632 1443647 1443651]\n",
      "train: [      0       1       2 ... 1443665 1443666 1443667] validation:  [      3       5      11 ... 1443648 1443653 1443662]\n",
      "train: [      0       1       3 ... 1443663 1443665 1443666] validation:  [      2       4      10 ... 1443660 1443664 1443667]\n",
      "train: [      0       1       2 ... 1443665 1443666 1443667] validation:  [      8      26      30 ... 1443644 1443655 1443663]\n",
      "-------------------------------------------------------------------\n",
      "List of possible accuracy: [0.8719651998032791, 0.8725782207845283, 0.8731669979981574, 0.8720582683655834, 0.8719024150339587]\n",
      "\n",
      "Maximum Accuracy That can be obtained from this model is: 87.31669979981575 %\n",
      "\n",
      "Minimum Accuracy: 87.19024150339587 %\n",
      "\n",
      "Overall Accuracy: 87.23342203971015 %\n",
      "\n",
      "Standard Deviation is: 0.0004799658979318764\n",
      "CPU times: user 12min 49s, sys: 703 ms, total: 12min 50s\n",
      "Wall time: 12min 54s\n"
     ]
    }
   ],
   "source": [
    "%%time\n",
    "# Model cross validation (Test data)\n",
    "# Note: it takes long time to cross validate\n",
    "\n",
    "skf_test = StratifiedKFold(n_splits=5, shuffle=True, random_state=256) \n",
    "\n",
    "lst_accu_stratified1 = [] \n",
    "\n",
    "for train_index, test_index in skf_test.split(X, Y): \n",
    "    print('train:', train_index, 'validation: ', test_index)\n",
    "    x_train_fold, x_test_fold = X[train_index], X[test_index] \n",
    "    y_train_fold, y_test_fold = Y[train_index], Y[test_index] \n",
    "    \n",
    "    model_RF_upsampled.fit(x_train_fold, y_train_fold) \n",
    "\n",
    "    lst_accu_stratified1.append(model_RF_upsampled.score(x_test_fold, y_test_fold)) \n",
    "\n",
    "# Print the output. \n",
    "print(\"-------------------------------------------------------------------\")\n",
    "\n",
    "print('List of possible accuracy:', lst_accu_stratified1) \n",
    "print('\\nMaximum Accuracy That can be obtained from this model is:', \n",
    "      max(lst_accu_stratified1)*100, '%') \n",
    "print('\\nMinimum Accuracy:', \n",
    "      min(lst_accu_stratified1)*100, '%') \n",
    "print('\\nOverall Accuracy:', \n",
    "      np.mean(lst_accu_stratified1)*100, '%') \n",
    "print('\\nStandard Deviation is:', np.std(lst_accu_stratified1))"
   ]
  },
  {
   "cell_type": "markdown",
   "metadata": {
    "id": "pNNQMWVT9KJM"
   },
   "source": [
    "### G:6- AUC-ROC curve (Testing set)"
   ]
  },
  {
   "cell_type": "code",
   "execution_count": 111,
   "metadata": {
    "colab": {
     "base_uri": "https://localhost:8080/",
     "height": 438
    },
    "id": "Zxqc58tUqyZW",
    "outputId": "23eb70d6-bb44-40c8-b34c-e34b8cb27793"
   },
   "outputs": [
    {
     "data": {
      "image/png": "[encoded data removed]",
      "text/plain": [
       "<Figure size 864x432 with 1 Axes>"
      ]
     },
     "metadata": {
      "needs_background": "light",
      "tags": []
     },
     "output_type": "display_data"
    },
    {
     "name": "stdout",
     "output_type": "stream",
     "text": [
      "CPU times: user 12min 11s, sys: 1.5 s, total: 12min 12s\n",
      "Wall time: 12min 16s\n"
     ]
    }
   ],
   "source": [
    "%%time\n",
    "from sklearn.metrics import plot_roc_curve\n",
    "from sklearn.metrics import auc\n",
    "\n",
    "cv = StratifiedKFold(n_splits=5,shuffle=True, random_state=147)\n",
    "\n",
    "tprs = []\n",
    "aucs = []\n",
    "mean_fpr = np.linspace(0, 1, 100)\n",
    "\n",
    "fig, ax = plt.subplots(figsize=(12,6))\n",
    "for i, (train, test) in enumerate(cv.split(X, Y)):\n",
    "    model_RF_upsampled.fit(X[train], Y[train])\n",
    "    viz = plot_roc_curve(model_RF_upsampled, X[test], Y[test], name='ROC fold {}'.format(i), alpha=0.3, lw=1, ax=ax)\n",
    "    interp_tpr = np.interp(mean_fpr, viz.fpr, viz.tpr)\n",
    "    interp_tpr[0] = 0.0\n",
    "    tprs.append(interp_tpr)\n",
    "    aucs.append(viz.roc_auc)\n",
    "\n",
    "ax.plot([0, 1], [0, 1], linestyle='--', lw=2, color='r',\n",
    "        label='Chance', alpha=.8)\n",
    "\n",
    "mean_tpr = np.mean(tprs, axis=0)\n",
    "mean_tpr[-1] = 1.0\n",
    "mean_auc = auc(mean_fpr, mean_tpr)\n",
    "std_auc = np.std(aucs)\n",
    "ax.plot(mean_fpr, mean_tpr, color='b', label=r'Mean ROC (AUC = %0.2f $\\pm$ %0.2f)' % (mean_auc, std_auc), lw=2, alpha=.8)\n",
    "\n",
    "std_tpr = np.std(tprs, axis=0)\n",
    "tprs_upper = np.minimum(mean_tpr + std_tpr, 1)\n",
    "tprs_lower = np.maximum(mean_tpr - std_tpr, 0)\n",
    "ax.fill_between(mean_fpr, tprs_lower, tprs_upper, color='grey', alpha=.2, label=r'$\\pm$ 1 std. dev.')\n",
    "\n",
    "ax.set(xlim=[-0.05, 1.05], ylim=[-0.05, 1.05], title=\"Receiver Operating Characteristic\")\n",
    "ax.legend(loc=\"lower right\")\n",
    "plt.show()"
   ]
  },
  {
   "cell_type": "code",
   "execution_count": null,
   "metadata": {
    "id": "qJ05zKKWA7YB"
   },
   "outputs": [],
   "source": []
  },
  {
   "cell_type": "markdown",
   "metadata": {
    "id": "n_QlddQy9KJQ"
   },
   "source": [
    "### H:2- Model building (split: StratifiedKFold)"
   ]
  },
  {
   "cell_type": "code",
   "execution_count": 112,
   "metadata": {
    "id": "t_fB5ltm9KJQ"
   },
   "outputs": [],
   "source": [
    "skf_m = StratifiedKFold(n_splits=10, shuffle=True, random_state=1) \n",
    "\n",
    "for train_index, test_index in skf_m.split(X, Y): \n",
    "    X_train_fold, X_test_fold = X[train_index], X[test_index] \n",
    "    Y_train_fold, Y_test_fold = Y[train_index], Y[test_index]"
   ]
  },
  {
   "cell_type": "code",
   "execution_count": 113,
   "metadata": {
    "colab": {
     "base_uri": "https://localhost:8080/"
    },
    "id": "GQQD89WY9KJR",
    "outputId": "ac4dc58a-64c1-4c21-8ac5-1425c747d1d2"
   },
   "outputs": [
    {
     "data": {
      "text/plain": [
       "RandomForestClassifier(bootstrap=True, ccp_alpha=0.0, class_weight=None,\n",
       "                       criterion='gini', max_depth=None, max_features='auto',\n",
       "                       max_leaf_nodes=None, max_samples=None,\n",
       "                       min_impurity_decrease=0.0, min_impurity_split=None,\n",
       "                       min_samples_leaf=1, min_samples_split=2,\n",
       "                       min_weight_fraction_leaf=0.0, n_estimators=17,\n",
       "                       n_jobs=None, oob_score=False, random_state=81, verbose=0,\n",
       "                       warm_start=False)"
      ]
     },
     "execution_count": 113,
     "metadata": {
      "tags": []
     },
     "output_type": "execute_result"
    }
   ],
   "source": [
    "from sklearn.ensemble import RandomForestClassifier\n",
    "clf_samplem = RandomForestClassifier(n_estimators=17, random_state=81) \n",
    "\n",
    "clf_samplem.fit(X_train_fold, Y_train_fold)"
   ]
  },
  {
   "cell_type": "markdown",
   "metadata": {
    "id": "l2yJ-GxU9KJR"
   },
   "source": [
    "### H:3- Model testing and evaluation"
   ]
  },
  {
   "cell_type": "code",
   "execution_count": 114,
   "metadata": {
    "id": "HF-OU7oY9KJS"
   },
   "outputs": [],
   "source": [
    "y_pred_train = clf_samplem.predict(X_train_fold)\n",
    "y_pred = clf_samplem.predict(X_test_fold)\n",
    "Y_pred_whole = clf_samplem.predict(dataset.drop(['Result'],axis=1))"
   ]
  },
  {
   "cell_type": "code",
   "execution_count": 115,
   "metadata": {
    "colab": {
     "base_uri": "https://localhost:8080/"
    },
    "id": "9LnyMZdu9KJS",
    "outputId": "8e3615eb-52df-4918-f4ed-d39df4bc0a0e"
   },
   "outputs": [
    {
     "name": "stdout",
     "output_type": "stream",
     "text": [
      "ROC-AUC score          : 0.8925683646363081\n",
      "\n",
      "Accuracy score (train) : 0.9934026115560509\n",
      "\n",
      "Accuracy score (test)  : 0.891920535306097\n",
      "\n",
      "F1 score               : 0.8984582945574999\n",
      "\n",
      "Confusion matrix :\n",
      " [[59734  6596]\n",
      " [ 9007 69029]]\n",
      "\n",
      "classification report :\n",
      "               precision    recall  f1-score   support\n",
      "\n",
      "           0       0.87      0.90      0.88     66330\n",
      "           1       0.91      0.88      0.90     78036\n",
      "\n",
      "    accuracy                           0.89    144366\n",
      "   macro avg       0.89      0.89      0.89    144366\n",
      "weighted avg       0.89      0.89      0.89    144366\n",
      "\n"
     ]
    }
   ],
   "source": [
    "print('ROC-AUC score          :', roc_auc_score(Y_test_fold, y_pred))\n",
    "print('\\nAccuracy score (train) :', accuracy_score(Y_train_fold, y_pred_train)) # Accuracy classification score\n",
    "print('\\nAccuracy score (test)  :', accuracy_score(Y_test_fold, y_pred)) # Accuracy classification score\n",
    "print('\\nF1 score               :', f1_score(Y_test_fold, y_pred))\n",
    "print('\\nConfusion matrix :\\n', confusion_matrix(Y_test_fold, y_pred))\n",
    "print('\\nclassification report :\\n', classification_report(Y_test_fold, y_pred))"
   ]
  },
  {
   "cell_type": "markdown",
   "metadata": {
    "id": "0EQo2bIP9KJT"
   },
   "source": [
    "### H:4- Model evaluation review for classes"
   ]
  },
  {
   "cell_type": "code",
   "execution_count": 116,
   "metadata": {
    "colab": {
     "base_uri": "https://localhost:8080/"
    },
    "id": "pEDWyVWY9KJT",
    "outputId": "7f58b968-c378-491e-a37c-47c5e3311451"
   },
   "outputs": [
    {
     "name": "stdout",
     "output_type": "stream",
     "text": [
      "              precision    recall  f1-score   support\n",
      "\n",
      "           0       0.99      0.99      0.99    596977\n",
      "           1       1.00      0.99      0.99    702325\n",
      "\n",
      "    accuracy                           0.99   1299302\n",
      "   macro avg       0.99      0.99      0.99   1299302\n",
      "weighted avg       0.99      0.99      0.99   1299302\n",
      "\n"
     ]
    }
   ],
   "source": [
    "#Training set\n",
    "print(classification_report(Y_train_fold, y_pred_train))"
   ]
  },
  {
   "cell_type": "code",
   "execution_count": 117,
   "metadata": {
    "colab": {
     "base_uri": "https://localhost:8080/",
     "height": 265
    },
    "id": "NjsqIcT99KJU",
    "outputId": "b9e6a75b-8dc6-462a-e040-fa68aa3f2139"
   },
   "outputs": [
    {
     "data": {
      "image/png": "[encoded data removed]",
      "text/plain": [
       "<Figure size 432x288 with 2 Axes>"
      ]
     },
     "metadata": {
      "needs_background": "light",
      "tags": []
     },
     "output_type": "display_data"
    }
   ],
   "source": [
    "#Training set\n",
    "sns.heatmap(confusion_matrix(Y_train_fold, y_pred_train), annot=True, fmt='.7g' )\n",
    "plt.show()"
   ]
  },
  {
   "cell_type": "code",
   "execution_count": 118,
   "metadata": {
    "colab": {
     "base_uri": "https://localhost:8080/"
    },
    "id": "b6xWOgQo9KJU",
    "outputId": "78d542f6-29dd-4f73-d363-c85b4a9ccfa3"
   },
   "outputs": [
    {
     "name": "stdout",
     "output_type": "stream",
     "text": [
      "              precision    recall  f1-score   support\n",
      "\n",
      "           0       0.87      0.90      0.88     66330\n",
      "           1       0.91      0.88      0.90     78036\n",
      "\n",
      "    accuracy                           0.89    144366\n",
      "   macro avg       0.89      0.89      0.89    144366\n",
      "weighted avg       0.89      0.89      0.89    144366\n",
      "\n"
     ]
    }
   ],
   "source": [
    "# Testing set\n",
    "print(classification_report(Y_test_fold, y_pred))"
   ]
  },
  {
   "cell_type": "code",
   "execution_count": 119,
   "metadata": {
    "colab": {
     "base_uri": "https://localhost:8080/",
     "height": 265
    },
    "id": "m89ij4wz9KJV",
    "outputId": "c97cb2ea-d53d-4377-b291-e4530c9b1c63"
   },
   "outputs": [
    {
     "data": {
      "image/png": "[encoded data removed]",
      "text/plain": [
       "<Figure size 432x288 with 2 Axes>"
      ]
     },
     "metadata": {
      "needs_background": "light",
      "tags": []
     },
     "output_type": "display_data"
    }
   ],
   "source": [
    "# Testing set\n",
    "sns.heatmap(confusion_matrix(Y_test_fold, y_pred), annot=True, fmt='.7g' )\n",
    "plt.show()"
   ]
  },
  {
   "cell_type": "code",
   "execution_count": 120,
   "metadata": {
    "colab": {
     "base_uri": "https://localhost:8080/"
    },
    "id": "a140WD2P9KJV",
    "outputId": "d403a8fc-3df4-4806-e7d3-51b08e795cfa"
   },
   "outputs": [
    {
     "name": "stdout",
     "output_type": "stream",
     "text": [
      "              precision    recall  f1-score   support\n",
      "\n",
      "           0       0.94      0.90      0.92    260904\n",
      "           1       0.97      0.98      0.97    780361\n",
      "\n",
      "    accuracy                           0.96   1041265\n",
      "   macro avg       0.96      0.94      0.95   1041265\n",
      "weighted avg       0.96      0.96      0.96   1041265\n",
      "\n"
     ]
    }
   ],
   "source": [
    "# Unseen dataset (whole)\n",
    "print(classification_report(dataset.Result.values, Y_pred_whole))"
   ]
  },
  {
   "cell_type": "code",
   "execution_count": 121,
   "metadata": {
    "colab": {
     "base_uri": "https://localhost:8080/",
     "height": 265
    },
    "id": "BdrVu3kL9KJW",
    "outputId": "c221807e-ea65-4f38-feb9-a7026b0d8c8a",
    "scrolled": false
   },
   "outputs": [
    {
     "data": {
      "image/png": "[encoded data removed]",
      "text/plain": [
       "<Figure size 432x288 with 2 Axes>"
      ]
     },
     "metadata": {
      "needs_background": "light",
      "tags": []
     },
     "output_type": "display_data"
    }
   ],
   "source": [
    "# Unseen dataset (whole)\n",
    "sns.heatmap(confusion_matrix(dataset.Result.values, Y_pred_whole), annot=True, fmt='.7g' )\n",
    "plt.show()"
   ]
  },
  {
   "cell_type": "markdown",
   "metadata": {
    "id": "YkIzbGgJ9KJW"
   },
   "source": [
    "### H:5- Model cross validation (Unseen dataset)"
   ]
  },
  {
   "cell_type": "code",
   "execution_count": 122,
   "metadata": {
    "id": "XfELp1f69KJW"
   },
   "outputs": [],
   "source": [
    "# seperating indepedent & depedent variabales..\n",
    "X1 = dataset.drop(['Result'],axis=1).values\n",
    "Y1 = dataset.Result.values"
   ]
  },
  {
   "cell_type": "code",
   "execution_count": 123,
   "metadata": {
    "colab": {
     "base_uri": "https://localhost:8080/"
    },
    "id": "fKTWb_yH9KJX",
    "outputId": "536cc4a2-1be4-4acb-cb15-5300588c5ee6",
    "scrolled": true
   },
   "outputs": [
    {
     "name": "stdout",
     "output_type": "stream",
     "text": [
      "train: [      0       1       2 ... 1041262 1041263 1041264] validation:  [      5       7      10 ... 1041257 1041259 1041261]\n",
      "train: [      1       2       3 ... 1041262 1041263 1041264] validation:  [      0      12      19 ... 1041251 1041255 1041258]\n",
      "train: [      0       1       2 ... 1041262 1041263 1041264] validation:  [      3       4      11 ... 1041243 1041248 1041253]\n",
      "train: [      0       3       4 ... 1041259 1041261 1041263] validation:  [      1       2       8 ... 1041260 1041262 1041264]\n",
      "train: [      0       1       2 ... 1041261 1041262 1041264] validation:  [      6       9      17 ... 1041246 1041247 1041263]\n",
      "-------------------------------------------------------------------\n",
      "List of possible accuracy: [0.9451388455388398, 0.9449611770298627, 0.9449515733266748, 0.9450524122101482, 0.946036791786913]\n",
      "\n",
      "Maximum Accuracy That can be obtained from this model is: 94.60367917869131 %\n",
      "\n",
      "Minimum Accuracy: 94.49515733266747 %\n",
      "\n",
      "Overall Accuracy: 94.52281599784878 %\n",
      "\n",
      "Standard Deviation is: 0.0004100072730137129\n",
      "CPU times: user 7min 49s, sys: 867 ms, total: 7min 50s\n",
      "Wall time: 7min 52s\n"
     ]
    }
   ],
   "source": [
    "%%time\n",
    "# Model cross validation (Unseen dataset)\n",
    "# Note: it takes long time to cross validate\n",
    "\n",
    "skf_h = StratifiedKFold(n_splits=5, shuffle=True, random_state=256) \n",
    "\n",
    "lst_accu_stratified_h = [] \n",
    "\n",
    "for train_index, test_index in skf_h.split(X1, Y1): \n",
    "    print('train:', train_index, 'validation: ', test_index)\n",
    "    x_train_fold, x_test_fold = X1[train_index], X1[test_index] \n",
    "    y_train_fold, y_test_fold = Y1[train_index], Y1[test_index] \n",
    "    \n",
    "    clf_samplem.fit(x_train_fold, y_train_fold) \n",
    "\n",
    "    lst_accu_stratified_h.append(model_RF_upsampled.score(x_test_fold, y_test_fold)) \n",
    "\n",
    "# Print the output. \n",
    "print(\"-------------------------------------------------------------------\")\n",
    "\n",
    "print('List of possible accuracy:', lst_accu_stratified_h) \n",
    "print('\\nMaximum Accuracy That can be obtained from this model is:', \n",
    "      max(lst_accu_stratified_h)*100, '%') \n",
    "print('\\nMinimum Accuracy:', \n",
    "      min(lst_accu_stratified_h)*100, '%') \n",
    "print('\\nOverall Accuracy:', \n",
    "      np.mean(lst_accu_stratified_h)*100, '%') \n",
    "print('\\nStandard Deviation is:', np.std(lst_accu_stratified_h))"
   ]
  },
  {
   "cell_type": "code",
   "execution_count": 124,
   "metadata": {
    "colab": {
     "base_uri": "https://localhost:8080/"
    },
    "id": "aWvBXSnoByrv",
    "outputId": "fac0185b-4a39-4278-f39c-028135c612d0"
   },
   "outputs": [
    {
     "name": "stdout",
     "output_type": "stream",
     "text": [
      "train: [      0       1       2 ... 1443663 1443664 1443667] validation:  [      6       7       9 ... 1443661 1443665 1443666]\n",
      "train: [      2       3       4 ... 1443665 1443666 1443667] validation:  [      0       1      17 ... 1443632 1443647 1443651]\n",
      "train: [      0       1       2 ... 1443665 1443666 1443667] validation:  [      3       5      11 ... 1443648 1443653 1443662]\n",
      "train: [      0       1       3 ... 1443663 1443665 1443666] validation:  [      2       4      10 ... 1443660 1443664 1443667]\n",
      "train: [      0       1       2 ... 1443665 1443666 1443667] validation:  [      8      26      30 ... 1443644 1443655 1443663]\n",
      "-------------------------------------------------------------------\n",
      "List of possible accuracy: [0.9692311954948153, 0.9690337819584808, 0.9692623660531839, 0.9690198210803753, 0.9692934302625609]\n",
      "\n",
      "Maximum Accuracy That can be obtained from this model is: 96.92934302625609 %\n",
      "\n",
      "Minimum Accuracy: 96.90198210803753 %\n",
      "\n",
      "Overall Accuracy: 96.91681189698834 %\n",
      "\n",
      "Standard Deviation is: 0.00011713477489266882\n",
      "CPU times: user 13min 31s, sys: 983 ms, total: 13min 32s\n",
      "Wall time: 13min 38s\n"
     ]
    }
   ],
   "source": [
    "%%time\n",
    "# Model cross validation (Test data)\n",
    "# Note: it takes long time to cross validate\n",
    "\n",
    "skf_h1 = StratifiedKFold(n_splits=5, shuffle=True, random_state=256) \n",
    "\n",
    "lst_accu_stratified_h1 = [] \n",
    "\n",
    "for train_index, test_index in skf_h1.split(X, Y): \n",
    "    print('train:', train_index, 'validation: ', test_index)\n",
    "    x_train_fold, x_test_fold = X[train_index], X[test_index] \n",
    "    y_train_fold, y_test_fold = Y[train_index], Y[test_index] \n",
    "    \n",
    "    clf_samplem.fit(x_train_fold, y_train_fold) \n",
    "\n",
    "    lst_accu_stratified_h1.append(model_RF_upsampled.score(x_test_fold, y_test_fold)) \n",
    "\n",
    "# Print the output. \n",
    "print(\"-------------------------------------------------------------------\")\n",
    "\n",
    "print('List of possible accuracy:', lst_accu_stratified_h1) \n",
    "print('\\nMaximum Accuracy That can be obtained from this model is:', \n",
    "      max(lst_accu_stratified_h1)*100, '%') \n",
    "print('\\nMinimum Accuracy:', \n",
    "      min(lst_accu_stratified_h1)*100, '%') \n",
    "print('\\nOverall Accuracy:', \n",
    "      np.mean(lst_accu_stratified_h1)*100, '%') \n",
    "print('\\nStandard Deviation is:', np.std(lst_accu_stratified_h1))"
   ]
  },
  {
   "cell_type": "markdown",
   "metadata": {
    "id": "gemoj2xlA7UM"
   },
   "source": [
    "### H:6- AUC-ROC curve (Testing set)"
   ]
  },
  {
   "cell_type": "code",
   "execution_count": 125,
   "metadata": {
    "colab": {
     "base_uri": "https://localhost:8080/",
     "height": 438
    },
    "id": "061uaN9nA7QD",
    "outputId": "005f1514-8d3e-4cf8-b8cb-735f09e401b1"
   },
   "outputs": [
    {
     "data": {
      "image/png": "[encoded data removed]",
      "text/plain": [
       "<Figure size 864x432 with 1 Axes>"
      ]
     },
     "metadata": {
      "needs_background": "light",
      "tags": []
     },
     "output_type": "display_data"
    },
    {
     "name": "stdout",
     "output_type": "stream",
     "text": [
      "CPU times: user 7min 57s, sys: 698 ms, total: 7min 58s\n",
      "Wall time: 8min 1s\n"
     ]
    }
   ],
   "source": [
    "%%time\n",
    "from sklearn.metrics import plot_roc_curve\n",
    "from sklearn.metrics import auc\n",
    "\n",
    "cv = StratifiedKFold(n_splits=5,shuffle=True, random_state=147)\n",
    "\n",
    "tprs = []\n",
    "aucs = []\n",
    "mean_fpr = np.linspace(0, 1, 100)\n",
    "\n",
    "fig, ax = plt.subplots(figsize=(12,6))\n",
    "for i, (train, test) in enumerate(cv.split(X1, Y1)):\n",
    "    clf_samplem.fit(X1[train], Y1[train])\n",
    "    viz = plot_roc_curve(model_RF_upsampled, X1[test], Y1[test], name='ROC fold {}'.format(i), alpha=0.3, lw=1, ax=ax)\n",
    "    interp_tpr = np.interp(mean_fpr, viz.fpr, viz.tpr)\n",
    "    interp_tpr[0] = 0.0\n",
    "    tprs.append(interp_tpr)\n",
    "    aucs.append(viz.roc_auc)\n",
    "\n",
    "ax.plot([0, 1], [0, 1], linestyle='--', lw=2, color='r',\n",
    "        label='Chance', alpha=.8)\n",
    "\n",
    "mean_tpr = np.mean(tprs, axis=0)\n",
    "mean_tpr[-1] = 1.0\n",
    "mean_auc = auc(mean_fpr, mean_tpr)\n",
    "std_auc = np.std(aucs)\n",
    "ax.plot(mean_fpr, mean_tpr, color='b', label=r'Mean ROC (AUC = %0.2f $\\pm$ %0.2f)' % (mean_auc, std_auc), lw=2, alpha=.8)\n",
    "\n",
    "std_tpr = np.std(tprs, axis=0)\n",
    "tprs_upper = np.minimum(mean_tpr + std_tpr, 1)\n",
    "tprs_lower = np.maximum(mean_tpr - std_tpr, 0)\n",
    "ax.fill_between(mean_fpr, tprs_lower, tprs_upper, color='grey', alpha=.2, label=r'$\\pm$ 1 std. dev.')\n",
    "\n",
    "ax.set(xlim=[-0.05, 1.05], ylim=[-0.05, 1.05], title=\"Receiver Operating Characteristic\")\n",
    "ax.legend(loc=\"lower right\")\n",
    "plt.show()"
   ]
  },
  {
   "cell_type": "markdown",
   "metadata": {
    "id": "VfFpHAHcpAwa"
   },
   "source": [
    "## I) Saving The Model"
   ]
  },
  {
   "cell_type": "code",
   "execution_count": 121,
   "metadata": {
    "colab": {
     "base_uri": "https://localhost:8080/"
    },
    "id": "C2js-wCmpAwb",
    "outputId": "21bafbe0-2dd7-41e3-c7c5-4ea6c6496121"
   },
   "outputs": [
    {
     "data": {
      "text/plain": [
       "['model_RF_upsampled_87.pkl']"
      ]
     },
     "execution_count": 121,
     "metadata": {},
     "output_type": "execute_result"
    }
   ],
   "source": [
    "from joblib import dump, load\n",
    "# model 1 (spliting : train_test_split)\n",
    "dump(model_RF_upsampled, 'model_RF_upsampled_87.joblib')\n",
    "dump(model_RF_upsampled, 'model_RF_upsampled_87.pkl') \n",
    "\n",
    "# model 2 (spliting: StratifiedKFold split)\n",
    "#dump(clf_samplem, 'model_RF_upsampled_89.joblib')\n",
    "#dump(clf_samplem, 'model_RF_upsampled_89.pkl')"
   ]
  },
  {
   "cell_type": "code",
   "execution_count": null,
   "metadata": {
    "id": "p9uMhaq6XvWf"
   },
   "outputs": [],
   "source": []
  }
 ],
 "metadata": {
  "colab": {
   "collapsed_sections": [],
   "name": "Model3_(final_mdel_86).ipynb",
   "provenance": [],
   "toc_visible": true
  },
  "kernelspec": {
   "display_name": "Python 3",
   "language": "python",
   "name": "python3"
  },
  "language_info": {
   "codemirror_mode": {
    "name": "ipython",
    "version": 3
   },
   "file_extension": ".py",
   "mimetype": "text/x-python",
   "name": "python",
   "nbconvert_exporter": "python",
   "pygments_lexer": "ipython3",
   "version": "3.9.2"
  }
 },
 "nbformat": 4,
 "nbformat_minor": 1
}
